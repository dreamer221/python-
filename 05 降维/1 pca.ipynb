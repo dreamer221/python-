{
 "cells": [
  {
   "cell_type": "code",
   "execution_count": 46,
   "metadata": {},
   "outputs": [
    {
     "name": "stdout",
     "output_type": "stream",
     "text": [
      "[[5.1 3.5 1.4 0.2]\n",
      " [4.9 3.  1.4 0.2]\n",
      " [4.7 3.2 1.3 0.2]\n",
      " [4.6 3.1 1.5 0.2]\n",
      " [5.  3.6 1.4 0.2]]\n"
     ]
    },
    {
     "data": {
      "text/plain": [
       "array([0, 0, 0, 0, 0, 0, 0, 0, 0, 0])"
      ]
     },
     "execution_count": 46,
     "metadata": {},
     "output_type": "execute_result"
    }
   ],
   "source": [
    "# -*- coding: utf-8 -*-\n",
    "import numpy as np\n",
    "import matplotlib.pyplot as plt\n",
    "from sklearn import datasets, decomposition\n",
    "\n",
    "iris = datasets.load_iris()  # 使用 scikit-learn 自带的 iris 数据集\n",
    "X, y = iris.data, iris.target\n",
    "print(X[:5])\n",
    "y[:10]"
   ]
  },
  {
   "cell_type": "markdown",
   "metadata": {},
   "source": [
    "#### 其实鸢尾花数据属于有类别的数据,应该使用lda进行降维,这里暂且使用了pca进行降维, 权当将特征部分当做无类别的数据, 看看效果"
   ]
  },
  {
   "cell_type": "code",
   "execution_count": 41,
   "metadata": {},
   "outputs": [
    {
     "name": "stdout",
     "output_type": "stream",
     "text": [
      "\n",
      "原始数据数据每个特征的平均值: [5.84333333 3.054      3.75866667 1.19866667]\n",
      "\n",
      "转换后的数据主成分个数: 4\n",
      "\n",
      " 主成分数组:\n",
      " [[ 0.36158968 -0.08226889  0.85657211  0.35884393]\n",
      " [-0.65653988 -0.72971237  0.1757674   0.07470647]\n",
      " [ 0.58099728 -0.59641809 -0.07252408 -0.54906091]\n",
      " [ 0.31725455 -0.32409435 -0.47971899  0.75112056]]\n",
      "\n",
      "转换后的数据各个特征的方差 [0.92461621 0.05301557 0.01718514 0.00518309]\n"
     ]
    }
   ],
   "source": [
    "pca = decomposition.PCA(n_components=4)  # 使用默认的 n_components\n",
    "# print(pca)\n",
    "pca.fit(X)\n",
    "X_r = pca.transform(X)\n",
    "\n",
    "print(\"\\n原始数据数据每个特征的平均值:\", pca.mean_)\n",
    "print(\"\\n转换后的数据主成分个数:\", pca.n_components_)\n",
    "\n",
    "print(\"\\n 主成分数组:\\n\", pca.components_)\n",
    "\n",
    "print('\\n转换后的数据各个特征的方差', pca.explained_variance_ratio_)"
   ]
  },
  {
   "cell_type": "code",
   "execution_count": 43,
   "metadata": {},
   "outputs": [
    {
     "name": "stdout",
     "output_type": "stream",
     "text": [
      "平均值: [5.84333333 3.054      3.75866667 1.19866667]\n",
      "方差占比: 0.9246162071742683\n",
      "方差占比: 0.053015567850535\n"
     ]
    }
   ],
   "source": [
    "# 验证上面的计算\n",
    "varSum = 0\n",
    "for i in range(4):\n",
    "    data = X_r[:, i]\n",
    "    varSum += data.var()\n",
    "\n",
    "print(\"平均值:\", X.mean(axis = 0))\n",
    "print(\"方差占比:\", X_r[:, 0].var() / varSum) # 0.9246\n",
    "print(\"方差占比:\", X_r[:, 1].var() / varSum) # 0.0530"
   ]
  },
  {
   "cell_type": "code",
   "execution_count": 27,
   "metadata": {},
   "outputs": [
    {
     "data": {
      "image/png": "[encoded data removed]",
      "text/plain": [
       "<matplotlib.figure.Figure at 0x1fb0fb1df98>"
      ]
     },
     "metadata": {},
     "output_type": "display_data"
    }
   ],
   "source": [
    "def plot_PCA(*data):\n",
    "    '''\n",
    "    绘制经过 PCA 降维到二维之后的样本点\n",
    "    '''\n",
    "    X, y = data\n",
    "    pca = decomposition.PCA(n_components=2)  # 目标维度为2维\n",
    "    pca.fit(X)\n",
    "    X_r = pca.transform(X)  # 原始数据集转换到二维\n",
    "    ###### 绘制二维数据 ########\n",
    "    fig = plt.figure()\n",
    "    ax = fig.add_subplot(1, 1, 1)\n",
    "    colors = ((1, 0, 0), (0, 1, 0), (0, 0, 1))  # 颜色集合，不同标记的样本染不同的颜色\n",
    "    for label, color in zip(np.unique(y), colors):\n",
    "        position = y == label\n",
    "        ax.scatter(X_r[position, 0], X_r[position, 1], \n",
    "                   label=\"target= %d\" % label, color=color)\n",
    "\n",
    "    ax.set_xlabel(\"X[0]\")\n",
    "    ax.set_ylabel(\"Y[0]\")\n",
    "    ax.legend(loc=\"best\")\n",
    "    ax.set_title(\"PCA\")\n",
    "    plt.show()\n",
    "\n",
    "plot_PCA(X,y)"
   ]
  },
  {
   "cell_type": "code",
   "execution_count": 44,
   "metadata": {},
   "outputs": [
    {
     "data": {
      "text/plain": [
       "array([0, 0, 0, 0, 0, 0, 0, 0, 0, 0, 0, 0, 0, 0, 0, 0, 0, 0, 0, 0, 0, 0,\n",
       "       0, 0, 0, 0, 0, 0, 0, 0, 0, 0, 0, 0, 0, 0, 0, 0, 0, 0, 0, 0, 0, 0,\n",
       "       0, 0, 0, 0, 0, 0, 1, 1, 1, 1, 1, 1, 1, 1, 1, 1, 1, 1, 1, 1, 1, 1,\n",
       "       1, 1, 1, 1, 1, 1, 1, 1, 1, 1, 1, 1, 1, 1, 1, 1, 1, 1, 1, 1, 1, 1,\n",
       "       1, 1, 1, 1, 1, 1, 1, 1, 1, 1, 1, 1, 2, 2, 2, 2, 2, 2, 2, 2, 2, 2,\n",
       "       2, 2, 2, 2, 2, 2, 2, 2, 2, 2, 2, 2, 2, 2, 2, 2, 2, 2, 2, 2, 2, 2,\n",
       "       2, 2, 2, 2, 2, 2, 2, 2, 2, 2, 2, 2, 2, 2, 2, 2, 2, 2])"
      ]
     },
     "execution_count": 44,
     "metadata": {},
     "output_type": "execute_result"
    }
   ],
   "source": [
    "y"
   ]
  },
  {
   "cell_type": "code",
   "execution_count": 45,
   "metadata": {},
   "outputs": [
    {
     "data": {
      "text/plain": [
       "array([ True,  True,  True,  True,  True,  True,  True,  True,  True,\n",
       "        True,  True,  True,  True,  True,  True,  True,  True,  True,\n",
       "        True,  True,  True,  True,  True,  True,  True,  True,  True,\n",
       "        True,  True,  True,  True,  True,  True,  True,  True,  True,\n",
       "        True,  True,  True,  True,  True,  True,  True,  True,  True,\n",
       "        True,  True,  True,  True,  True, False, False, False, False,\n",
       "       False, False, False, False, False, False, False, False, False,\n",
       "       False, False, False, False, False, False, False, False, False,\n",
       "       False, False, False, False, False, False, False, False, False,\n",
       "       False, False, False, False, False, False, False, False, False,\n",
       "       False, False, False, False, False, False, False, False, False,\n",
       "       False, False, False, False, False, False, False, False, False,\n",
       "       False, False, False, False, False, False, False, False, False,\n",
       "       False, False, False, False, False, False, False, False, False,\n",
       "       False, False, False, False, False, False, False, False, False,\n",
       "       False, False, False, False, False, False, False, False, False,\n",
       "       False, False, False, False, False, False])"
      ]
     },
     "execution_count": 45,
     "metadata": {},
     "output_type": "execute_result"
    }
   ],
   "source": [
    "y == 0"
   ]
  }
 ],
 "metadata": {
  "kernelspec": {
   "display_name": "Python 3",
   "language": "python",
   "name": "python3"
  },
  "language_info": {
   "codemirror_mode": {
    "name": "ipython",
    "version": 3
   },
   "file_extension": ".py",
   "mimetype": "text/x-python",
   "name": "python",
   "nbconvert_exporter": "python",
   "pygments_lexer": "ipython3",
   "version": "3.6.1"
  }
 },
 "nbformat": 4,
 "nbformat_minor": 2
}
