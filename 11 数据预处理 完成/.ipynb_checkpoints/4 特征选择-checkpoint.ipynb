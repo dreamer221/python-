{
 "cells": [
  {
   "cell_type": "code",
   "execution_count": 1,
   "metadata": {
    "collapsed": true
   },
   "outputs": [],
   "source": [
    "import numpy as np\n",
    "import pandas as pd\n",
    "from sklearn import feature_selection"
   ]
  },
  {
   "cell_type": "markdown",
   "metadata": {},
   "source": [
    "# 1 过滤式特征选取"
   ]
  },
  {
   "cell_type": "markdown",
   "metadata": {
    "collapsed": true
   },
   "source": [
    "from sklearn.feature_selection import VarianceThreshold, SelectKBest, \\\n",
    "f_classif, SelectPercentile"
   ]
  },
  {
   "cell_type": "markdown",
   "metadata": {},
   "source": [
    "## 1.1 根据方差选择特征"
   ]
  },
  {
   "cell_type": "code",
   "execution_count": 2,
   "metadata": {},
   "outputs": [
    {
     "name": "stdout",
     "output_type": "stream",
     "text": [
      "各个特征的方差大小: [ 1.25   13.6875 13.6875 13.6875]\n",
      "被选特征的索引: [1 2 3]\n",
      "删除小方差后的数据 \n",
      " [[ 1  2  3]\n",
      " [ 4  5  6]\n",
      " [ 7  8  9]\n",
      " [11 12 13]]\n"
     ]
    },
    {
     "name": "stderr",
     "output_type": "stream",
     "text": [
      "E:\\software\\anaconda3\\lib\\site-packages\\sklearn\\utils\\__init__.py:54: FutureWarning: Conversion of the second argument of issubdtype from `int` to `np.signedinteger` is deprecated. In future, it will be treated as `np.int32 == np.dtype(int).type`.\n",
      "  if np.issubdtype(mask.dtype, np.int):\n"
     ]
    }
   ],
   "source": [
    "X = [[99,1,2,3],\n",
    "     [100,4,5,6],\n",
    "     [102,7,8,9],\n",
    "     [101,11,12,13]]\n",
    "\n",
    "selector = feature_selection.VarianceThreshold(5) # 方差小于5的特征将被删除\n",
    "selector.fit(X)\n",
    "\n",
    "print(\"各个特征的方差大小: %s\" % selector.variances_)\n",
    "print(\"被选特征的索引: %s\" % selector.get_support(True))\n",
    "print(\"删除小方差后的数据 \\n\", selector.transform(X))"
   ]
  },
  {
   "cell_type": "markdown",
   "metadata": {},
   "source": [
    "## 1.2 选取指定标准得分最高的k个特征"
   ]
  },
  {
   "cell_type": "code",
   "execution_count": 3,
   "metadata": {},
   "outputs": [
    {
     "name": "stdout",
     "output_type": "stream",
     "text": [
      "所有特征得分:\n",
      " [0.        0.5764706 0.5764706 0.5764706]\n",
      "所有特征得分的pvalues_:\n",
      " [1.        0.5269838 0.5269838 0.5269838]\n",
      "所选特征的索引: [2 3]\n",
      "特征选取的结果:\n",
      " [[ 2  3]\n",
      " [ 5  6]\n",
      " [ 8  9]\n",
      " [12 13]]\n"
     ]
    },
    {
     "name": "stderr",
     "output_type": "stream",
     "text": [
      "E:\\software\\anaconda3\\lib\\site-packages\\sklearn\\utils\\__init__.py:54: FutureWarning: Conversion of the second argument of issubdtype from `int` to `np.signedinteger` is deprecated. In future, it will be treated as `np.int32 == np.dtype(int).type`.\n",
      "  if np.issubdtype(mask.dtype, np.int):\n"
     ]
    }
   ],
   "source": [
    "X = [[99,1,2,3],\n",
    "     [100,4,5,6],\n",
    "     [102,7,8,9],\n",
    "     [101,11,12,13]]\n",
    "y = [0, 1, 0, 1]\n",
    "selector = feature_selection.SelectKBest(score_func=feature_selection.f_classif, \n",
    "                                         k=2)\n",
    "selector.fit(X, y)\n",
    "print(\"所有特征得分:\\n\", selector.scores_)\n",
    "print(\"所有特征得分的pvalues_:\\n\", selector.pvalues_)\n",
    "print(\"所选特征的索引:\", selector.get_support(True))\n",
    "print(\"特征选取的结果:\\n\", selector.transform(X))"
   ]
  },
  {
   "cell_type": "markdown",
   "metadata": {},
   "source": [
    "## 1.3 选取指定标准得分的百分比选择特征"
   ]
  },
  {
   "cell_type": "code",
   "execution_count": 4,
   "metadata": {},
   "outputs": [
    {
     "name": "stdout",
     "output_type": "stream",
     "text": [
      "所有特征得分:\n",
      " [0.        0.5764706 0.5764706 0.5764706]\n",
      "所有特征得分的pvalues_:\n",
      " [1.        0.5269838 0.5269838 0.5269838]\n",
      "所选特征的索引: [1 2 3]\n",
      "特征选取的结果:\n",
      " [[ 1  2  3]\n",
      " [ 4  5  6]\n",
      " [ 7  8  9]\n",
      " [11 12 13]]\n"
     ]
    },
    {
     "name": "stderr",
     "output_type": "stream",
     "text": [
      "E:\\software\\anaconda3\\lib\\site-packages\\sklearn\\utils\\__init__.py:54: FutureWarning: Conversion of the second argument of issubdtype from `int` to `np.signedinteger` is deprecated. In future, it will be treated as `np.int32 == np.dtype(int).type`.\n",
      "  if np.issubdtype(mask.dtype, np.int):\n",
      "E:\\software\\anaconda3\\lib\\site-packages\\scipy\\stats\\stats.py:1633: FutureWarning: Using a non-tuple sequence for multidimensional indexing is deprecated; use `arr[tuple(seq)]` instead of `arr[seq]`. In the future this will be interpreted as an array index, `arr[np.array(seq)]`, which will result either in an error or a different result.\n",
      "  return np.add.reduce(sorted[indexer] * weights, axis=axis) / sumval\n"
     ]
    }
   ],
   "source": [
    "X = [[99,1,2,3],\n",
    "     [100,4,5,6],\n",
    "     [102,7,8,9],\n",
    "     [101,11,12,13]]\n",
    "y = [0, 1, 0, 1]\n",
    "selector = feature_selection.SelectPercentile(score_func=feature_selection.f_classif, \n",
    "                                              percentile=80)\n",
    "selector.fit(X,y)\n",
    "print(\"所有特征得分:\\n\",selector.scores_)\n",
    "print(\"所有特征得分的pvalues_:\\n\",selector.pvalues_)\n",
    "print(\"所选特征的索引:\",selector.get_support(True))\n",
    "print(\"特征选取的结果:\\n\",selector.transform(X))"
   ]
  },
  {
   "cell_type": "markdown",
   "metadata": {},
   "source": [
    "# 2 包裹式特征选取"
   ]
  },
  {
   "cell_type": "code",
   "execution_count": 5,
   "metadata": {
    "collapsed": true
   },
   "outputs": [],
   "source": [
    "from sklearn.feature_selection import RFE, RFECV\n",
    "from sklearn.svm import LinearSVC\n",
    "from sklearn.datasets import load_iris\n",
    "from sklearn.model_selection import train_test_split\n",
    "\n",
    "iris = load_iris()\n",
    "X = iris.data\n",
    "y = iris.target"
   ]
  },
  {
   "cell_type": "code",
   "execution_count": 6,
   "metadata": {},
   "outputs": [
    {
     "name": "stdout",
     "output_type": "stream",
     "text": [
      "选取的特征个数: 3\n",
      "选取的特征是: [False  True  True  True]\n",
      "特征重要度排序: [2 1 1 1]\n"
     ]
    }
   ],
   "source": [
    "estimator = LinearSVC()\n",
    "selector = feature_selection.RFE(estimator=estimator, \n",
    "                                 n_features_to_select=3) # 选出3个特征\n",
    "selector.fit(X, y)\n",
    "print(\"选取的特征个数: %s\" % selector.n_features_)\n",
    "print(\"选取的特征是: %s\" % selector.support_)\n",
    "print(\"特征重要度排序: %s\" % selector.ranking_) # 被选中的特征排名均为1,其余再排序"
   ]
  },
  {
   "cell_type": "code",
   "execution_count": 7,
   "metadata": {},
   "outputs": [
    {
     "name": "stdout",
     "output_type": "stream",
     "text": [
      "Original DataSet: test score=0.9736842105263158\n",
      "Selected DataSet: test score=0.9473684210526315\n"
     ]
    },
    {
     "name": "stderr",
     "output_type": "stream",
     "text": [
      "E:\\software\\anaconda3\\lib\\site-packages\\sklearn\\utils\\__init__.py:54: FutureWarning: Conversion of the second argument of issubdtype from `int` to `np.signedinteger` is deprecated. In future, it will be treated as `np.int32 == np.dtype(int).type`.\n",
      "  if np.issubdtype(mask.dtype, np.int):\n"
     ]
    }
   ],
   "source": [
    "# RFE 特征选取案例应用\n",
    "estimator = LinearSVC()\n",
    "selector = feature_selection.RFE(estimator=estimator, n_features_to_select=2)\n",
    "X_t = selector.fit_transform(X, y)\n",
    "\n",
    "# 切分测试集与验证集\n",
    "X_train, X_test, y_train, y_test = train_test_split(X, y, \n",
    "                                                   test_size=0.25, \n",
    "                                                   random_state=0,\n",
    "                                                   stratify=y)\n",
    "X_train_t, X_test_t, y_train_t, y_test_t = train_test_split(X_t, y, \n",
    "                                                            test_size=0.25, \n",
    "                                                            random_state=0, \n",
    "                                                            stratify=y)\n",
    "\n",
    "# 测试选取与不选取的区别\n",
    "clf = LinearSVC()\n",
    "clf_t = LinearSVC()\n",
    "clf.fit(X_train, y_train)\n",
    "clf_t.fit(X_train_t, y_train_t)\n",
    "print(\"Original DataSet: test score=%s\"%(clf.score(X_test, y_test)))\n",
    "print(\"Selected DataSet: test score=%s\"%(clf_t.score(X_test_t, y_test_t)))"
   ]
  },
  {
   "cell_type": "code",
   "execution_count": 8,
   "metadata": {},
   "outputs": [
    {
     "name": "stdout",
     "output_type": "stream",
     "text": [
      "N_features 4\n",
      "Support is [ True  True  True  True]\n",
      "Ranking [1 1 1 1]\n",
      "Grid Scores [0.91421569 0.94689542 0.95383987 0.96691176]\n"
     ]
    },
    {
     "name": "stderr",
     "output_type": "stream",
     "text": [
      "E:\\software\\anaconda3\\lib\\site-packages\\sklearn\\utils\\__init__.py:54: FutureWarning: Conversion of the second argument of issubdtype from `int` to `np.signedinteger` is deprecated. In future, it will be treated as `np.int32 == np.dtype(int).type`.\n",
      "  if np.issubdtype(mask.dtype, np.int):\n"
     ]
    }
   ],
   "source": [
    "estimator = LinearSVC()\n",
    "selector = feature_selection.RFECV(estimator=estimator, cv=3) # 3折交叉验证\n",
    "selector.fit(X,y)\n",
    "print(\"N_features %s\" % selector.n_features_)\n",
    "print(\"Support is %s\" % selector.support_)\n",
    "print(\"Ranking %s\" % selector.ranking_)\n",
    "print(\"Grid Scores %s\" % selector.grid_scores_)"
   ]
  },
  {
   "cell_type": "markdown",
   "metadata": {},
   "source": [
    "# 3 嵌入式特征选取"
   ]
  },
  {
   "cell_type": "code",
   "execution_count": 10,
   "metadata": {},
   "outputs": [
    {
     "name": "stdout",
     "output_type": "stream",
     "text": [
      "(1797, 64) (1797,)\n",
      "[[ 0.  0.  5. 13.  9.  1.  0.  0.  0.  0. 13. 15. 10. 15.  5.  0.  0.  3.\n",
      "  15.  2.  0. 11.  8.  0.  0.  4. 12.  0.  0.  8.  8.  0.  0.  5.  8.  0.\n",
      "   0.  9.  8.  0.  0.  4. 11.  0.  1. 12.  7.  0.  0.  2. 14.  5. 10. 12.\n",
      "   0.  0.  0.  0.  6. 13. 10.  0.  0.  0.]\n",
      " [ 0.  0.  0. 12. 13.  5.  0.  0.  0.  0.  0. 11. 16.  9.  0.  0.  0.  0.\n",
      "   3. 15. 16.  6.  0.  0.  0.  7. 15. 16. 16.  2.  0.  0.  0.  0.  1. 16.\n",
      "  16.  3.  0.  0.  0.  0.  1. 16. 16.  6.  0.  0.  0.  0.  1. 16. 16.  6.\n",
      "   0.  0.  0.  0.  0. 11. 16. 10.  0.  0.]\n",
      " [ 0.  0.  0.  4. 15. 12.  0.  0.  0.  0.  3. 16. 15. 14.  0.  0.  0.  0.\n",
      "   8. 13.  8. 16.  0.  0.  0.  0.  1.  6. 15. 11.  0.  0.  0.  1.  8. 13.\n",
      "  15.  1.  0.  0.  0.  9. 16. 16.  5.  0.  0.  0.  0.  3. 13. 16. 16. 11.\n",
      "   5.  0.  0.  0.  0.  3. 11. 16.  9.  0.]]\n",
      "[0 1 2]\n"
     ]
    }
   ],
   "source": [
    "from sklearn.feature_selection import SelectFromModel\n",
    "from sklearn.svm import LinearSVC\n",
    "from sklearn.datasets import load_digits, load_diabetes\n",
    "import numpy as np\n",
    "import matplotlib.pyplot as plt\n",
    "from sklearn.linear_model import Lasso\n",
    "\n",
    "digits = load_digits()\n",
    "X = digits.data\n",
    "y = digits.target\n",
    "print(X.shape, y.shape)\n",
    "print(X[:3])\n",
    "print(y[:3])"
   ]
  },
  {
   "cell_type": "code",
   "execution_count": 11,
   "metadata": {},
   "outputs": [
    {
     "name": "stdout",
     "output_type": "stream",
     "text": [
      "特征选取的阈值:  0.7066434105556045\n",
      "<class 'numpy.ndarray'>\n",
      "被选中的特征的下标: \n",
      " [ 2  3  4  5  6  9 12 13 14 16 18 19 20 21 22 24 25 26 27 30 33 36 38 41\n",
      " 42 43 44 45 53 54 55 58 61]\n"
     ]
    },
    {
     "name": "stderr",
     "output_type": "stream",
     "text": [
      "E:\\software\\anaconda3\\lib\\site-packages\\sklearn\\utils\\__init__.py:54: FutureWarning: Conversion of the second argument of issubdtype from `int` to `np.signedinteger` is deprecated. In future, it will be treated as `np.int32 == np.dtype(int).type`.\n",
      "  if np.issubdtype(mask.dtype, np.int):\n"
     ]
    }
   ],
   "source": [
    "def test_SelectFromModel(X, y):\n",
    "    estimator = LinearSVC(penalty='l1', dual=False)\n",
    "    selector = SelectFromModel(estimator=estimator, threshold='mean')\n",
    "    selector.fit(X, y)\n",
    "    selector.transform(X)\n",
    "    print(\"特征选取的阈值: \", selector.threshold_)\n",
    "    dataIndex = selector.get_support(indices=True)\n",
    "    print(type(dataIndex)) # numpy.ndarray\n",
    "    print(\"被选中的特征的下标: \\n\", dataIndex)\n",
    "    \n",
    "test_SelectFromModel(X, y)"
   ]
  },
  {
   "cell_type": "code",
   "execution_count": 12,
   "metadata": {},
   "outputs": [
    {
     "name": "stdout",
     "output_type": "stream",
     "text": [
      "(1797, 64)\n"
     ]
    },
    {
     "data": {
      "image/png": "[encoded data removed]",
      "text/plain": [
       "<matplotlib.figure.Figure at 0x1723c6cc898>"
      ]
     },
     "metadata": {},
     "output_type": "display_data"
    }
   ],
   "source": [
    "def test_Lasso(*data):\n",
    "    '''\n",
    "    测试 alpha 与稀疏性的关系\n",
    "    :param data: 可变参数。它是一个元组，\n",
    "    这里要求其元素依次为：训练样本集、测试样本集、训练样本的值、测试样本的值\n",
    "    :return: None\n",
    "    '''\n",
    "    X, y = data\n",
    "    print(X.shape)\n",
    "    alphas = np.logspace(-2, 2) # 50个数\n",
    "    zeros = []\n",
    "    for alpha in alphas:\n",
    "        regr = Lasso(alpha=alpha)\n",
    "        regr.fit(X, y)\n",
    "        ### 计算零的个数 ###\n",
    "        num = 0\n",
    "        for ele in regr.coef_:\n",
    "            if abs(ele) < 1e-5:\n",
    "                num += 1\n",
    "        zeros.append(num)\n",
    "    ##### 绘图\n",
    "    fig = plt.figure()\n",
    "    ax = fig.add_subplot(1,1,1)\n",
    "    ax.plot(alphas, zeros)\n",
    "    ax.set_xlabel(r\"$\\alpha$\")\n",
    "    ax.set_xscale(\"log\")\n",
    "    ax.set_ylim(0, X.shape[1]+1)\n",
    "    ax.set_ylabel(\"zeros in coef\")\n",
    "    ax.set_title(\"Sparsity In Lasso\")\n",
    "    plt.show()\n",
    "    \n",
    "test_Lasso(X, y)"
   ]
  },
  {
   "cell_type": "code",
   "execution_count": 13,
   "metadata": {},
   "outputs": [
    {
     "data": {
      "image/png": "[encoded data removed]",
      "text/plain": [
       "<matplotlib.figure.Figure at 0x1723c9de128>"
      ]
     },
     "metadata": {},
     "output_type": "display_data"
    }
   ],
   "source": [
    "def test_LinearSVC(*data):\n",
    "    '''\n",
    "    测试 C  与 稀疏性的关系\n",
    "    :param data: 可变参数。它是一个元组，\n",
    "    这里要求其元素依次为：训练样本集、测试样本集、训练样本的标记、测试样本的标记\n",
    "    :return: None\n",
    "    '''\n",
    "    X, y = data\n",
    "    Cs = np.logspace(-2, 2)\n",
    "    zeros = []\n",
    "    for C in Cs:\n",
    "        clf = LinearSVC(C=C, penalty='l1', dual=False)\n",
    "        clf.fit(X, y)\n",
    "        # 计算零的个数\n",
    "        num=0\n",
    "        for row in clf.coef_:\n",
    "            for ele in row:\n",
    "                if abs(ele) < 1e-5:\n",
    "                    num += 1\n",
    "        zeros.append(num)\n",
    "    # 绘图\n",
    "    fig=plt.figure()\n",
    "    ax=fig.add_subplot(1, 1, 1)\n",
    "    ax.plot(Cs, zeros)\n",
    "    ax.set_xlabel(\"C\")\n",
    "    ax.set_xscale(\"log\")\n",
    "    ax.set_ylabel(\"zeros in coef\")\n",
    "    ax.set_title(\"Sparsity In SVM\")\n",
    "    plt.show()\n",
    "    \n",
    "test_LinearSVC(X, y)"
   ]
  },
  {
   "cell_type": "code",
   "execution_count": null,
   "metadata": {
    "collapsed": true
   },
   "outputs": [],
   "source": []
  },
  {
   "cell_type": "code",
   "execution_count": null,
   "metadata": {
    "collapsed": true
   },
   "outputs": [],
   "source": []
  }
 ],
 "metadata": {
  "kernelspec": {
   "display_name": "Python 3",
   "language": "python",
   "name": "python3"
  },
  "language_info": {
   "codemirror_mode": {
    "name": "ipython",
    "version": 3
   },
   "file_extension": ".py",
   "mimetype": "text/x-python",
   "name": "python",
   "nbconvert_exporter": "python",
   "pygments_lexer": "ipython3",
   "version": "3.6.1"
  }
 },
 "nbformat": 4,
 "nbformat_minor": 2
}
