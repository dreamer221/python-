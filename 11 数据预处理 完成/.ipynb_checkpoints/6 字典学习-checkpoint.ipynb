{
 "cells": [
  {
   "cell_type": "code",
   "execution_count": 2,
   "metadata": {
    "collapsed": true
   },
   "outputs": [],
   "source": [
    "from sklearn.decomposition import DictionaryLearning"
   ]
  },
  {
   "cell_type": "code",
   "execution_count": 10,
   "metadata": {
    "collapsed": true
   },
   "outputs": [],
   "source": [
    "def test_DictionaryLearning():\n",
    "    X = [[1,2,3,4,5],\n",
    "         [6,7,8,9,7]]\n",
    "    dct = DictionaryLearning(n_components=3)\n",
    "    dct.fit(X)\n",
    "    print(\"components is :\\n\",dct.components_)\n",
    "    print()\n",
    "    print(\"after transform:\\n\",dct.transform(X))"
   ]
  },
  {
   "cell_type": "code",
   "execution_count": 11,
   "metadata": {},
   "outputs": [
    {
     "name": "stdout",
     "output_type": "stream",
     "text": [
      "components is :\n",
      " [[-0.3592106  -0.41907904 -0.47894747 -0.53881591 -0.41907904]\n",
      " [-0.13483997 -0.26967994 -0.40451992 -0.53935989 -0.67419986]\n",
      " [-0.15717019  0.66109892  0.27394264  0.39334465 -0.55541081]]\n",
      "\n",
      "after transform:\n",
      " [[  0.          -7.41619849   0.        ]\n",
      " [-16.70329309   0.           0.        ]]\n"
     ]
    }
   ],
   "source": [
    "if __name__=='__main__':\n",
    "    test_DictionaryLearning() "
   ]
  },
  {
   "cell_type": "code",
   "execution_count": null,
   "metadata": {
    "collapsed": true
   },
   "outputs": [],
   "source": []
  }
 ],
 "metadata": {
  "kernelspec": {
   "display_name": "Python 3",
   "language": "python",
   "name": "python3"
  },
  "language_info": {
   "codemirror_mode": {
    "name": "ipython",
    "version": 3
   },
   "file_extension": ".py",
   "mimetype": "text/x-python",
   "name": "python",
   "nbconvert_exporter": "python",
   "pygments_lexer": "ipython3",
   "version": "3.6.1"
  }
 },
 "nbformat": 4,
 "nbformat_minor": 2
}
