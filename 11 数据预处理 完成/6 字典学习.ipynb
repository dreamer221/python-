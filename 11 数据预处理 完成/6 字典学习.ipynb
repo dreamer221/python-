{
 "cells": [
  {
   "cell_type": "code",
   "execution_count": 1,
   "metadata": {
    "collapsed": true
   },
   "outputs": [],
   "source": [
    "from sklearn.decomposition import DictionaryLearning"
   ]
  },
  {
   "cell_type": "code",
   "execution_count": 2,
   "metadata": {
    "collapsed": true
   },
   "outputs": [],
   "source": [
    "def test_DictionaryLearning():\n",
    "    X = [[1,2,3,4,5],\n",
    "         [3,5,6,7,8],\n",
    "         [2,2,1,6,8],\n",
    "         [6,7,8,9,7]]\n",
    "    dct = DictionaryLearning(n_components=3)\n",
    "    dct.fit(X)\n",
    "    print(\"components is :\\n\",dct.components_)\n",
    "    print()\n",
    "    print(\"after transform:\\n\",dct.transform(X))"
   ]
  },
  {
   "cell_type": "code",
   "execution_count": 3,
   "metadata": {},
   "outputs": [
    {
     "name": "stdout",
     "output_type": "stream",
     "text": [
      "components is :\n",
      " [[-0.35748521 -0.42115686 -0.47848815 -0.53657024 -0.4218681 ]\n",
      " [ 0.19120006  0.19113136  0.09638742  0.57493305  0.76620675]\n",
      " [-0.15131891 -0.31762997 -0.41910718 -0.51448708 -0.66020149]]\n",
      "\n",
      "after transform:\n",
      " [[  0.           0.          -7.40285615]\n",
      " [  0.           0.         -13.43977113]\n",
      " [  0.          10.44030261   0.        ]\n",
      " [-16.70312332   0.           0.        ]]\n"
     ]
    }
   ],
   "source": [
    "if __name__=='__main__':\n",
    "    test_DictionaryLearning() "
   ]
  },
  {
   "cell_type": "code",
   "execution_count": null,
   "metadata": {
    "collapsed": true
   },
   "outputs": [],
   "source": []
  }
 ],
 "metadata": {
  "kernelspec": {
   "display_name": "Python 3",
   "language": "python",
   "name": "python3"
  },
  "language_info": {
   "codemirror_mode": {
    "name": "ipython",
    "version": 3
   },
   "file_extension": ".py",
   "mimetype": "text/x-python",
   "name": "python",
   "nbconvert_exporter": "python",
   "pygments_lexer": "ipython3",
   "version": "3.6.1"
  }
 },
 "nbformat": 4,
 "nbformat_minor": 2
}
