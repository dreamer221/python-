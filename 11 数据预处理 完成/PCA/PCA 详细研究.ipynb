{
 "cells": [
  {
   "cell_type": "code",
   "execution_count": 1,
   "metadata": {
    "collapsed": true
   },
   "outputs": [],
   "source": [
    "import numpy as np"
   ]
  },
  {
   "cell_type": "code",
   "execution_count": 2,
   "metadata": {},
   "outputs": [
    {
     "data": {
      "text/plain": [
       "matrix([[10.235186, 11.321997],\n",
       "        [10.122339, 11.810993],\n",
       "        [ 9.190236,  8.904943],\n",
       "        ...,\n",
       "        [ 9.854922,  9.201393],\n",
       "        [ 9.11458 ,  9.134215],\n",
       "        [10.334899,  8.543604]])"
      ]
     },
     "execution_count": 2,
     "metadata": {},
     "output_type": "execute_result"
    }
   ],
   "source": [
    "fileName = \"testSet.txt\"\n",
    "delim = '\\t'\n",
    "fr = open(fileName)\n",
    "stringArr = [line.strip().split(delim) for line in fr.readlines()]\n",
    "datArr = [list(map(float, line)) for line in stringArr]\n",
    "dataMat = np.mat(datArr)\n",
    "dataMat"
   ]
  },
  {
   "cell_type": "code",
   "execution_count": 14,
   "metadata": {},
   "outputs": [
    {
     "name": "stdout",
     "output_type": "stream",
     "text": [
      "平均值: [[9.06393644 9.09600218]]\n",
      "(2, 1)\n"
     ]
    },
    {
     "data": {
      "text/plain": [
       "matrix([[-2.51033597],\n",
       "        [-2.86915379],\n",
       "        [ 0.09741085],\n",
       "        [-0.76778222],\n",
       "        [ 1.02715333],\n",
       "        [-1.44409178],\n",
       "        [-2.17360352],\n",
       "        [-0.7739988 ],\n",
       "        [-1.09983463],\n",
       "        [-1.70275987]])"
      ]
     },
     "execution_count": 14,
     "metadata": {},
     "output_type": "execute_result"
    }
   ],
   "source": [
    "topNfeat = 1\n",
    "meanVals = np.mean(dataMat, axis=0)\n",
    "print(\"平均值:\", meanVals)\n",
    "# 每列减去平均值\n",
    "meanRemoved = dataMat - meanVals\n",
    "# meanRemoved.shape # (1000, 2)\n",
    "\n",
    "# np.cov() 求协方差矩阵\n",
    "covMat = np.cov(meanRemoved, rowvar=0)\n",
    "# covMat\n",
    "\"\"\"\n",
    "array([[1.05198368, 1.1246314 ],\n",
    "       [1.1246314 , 2.21166499]])\n",
    "\"\"\"\n",
    "\n",
    "# np.linalg.eig()求方阵的特征值和特征向量\n",
    "eigVals, eigVects = np.linalg.eig(np.mat(covMat))\n",
    "eigValInd = np.argsort(eigVals)\n",
    "eigValInd = eigValInd[:-(topNfeat + 1):-1]\n",
    "# 前N大特征值对应的特征向量\n",
    "redEigVects = eigVects[:, eigValInd]\n",
    "print(redEigVects.shape) # (2, 1)\n",
    "\n",
    "# 得到降维后的数据\n",
    "lowDDataMat = meanRemoved * redEigVects\n",
    "lowDDataMat[:10]"
   ]
  },
  {
   "cell_type": "code",
   "execution_count": 4,
   "metadata": {},
   "outputs": [
    {
     "data": {
      "text/plain": [
       "matrix([[10.37044569, 11.23955536],\n",
       "        [10.55719313, 11.54594665],\n",
       "        [ 9.01323877,  9.01282393],\n",
       "        [ 9.46353019,  9.75160448],\n",
       "        [ 8.52935248,  8.21892524],\n",
       "        [ 9.81551682, 10.32909909],\n",
       "        [10.19519263, 10.95202257],\n",
       "        [ 9.46676563,  9.75691276],\n",
       "        [ 9.63634752, 10.03514103],\n",
       "        [ 9.95014113, 10.54997343]])"
      ]
     },
     "execution_count": 4,
     "metadata": {},
     "output_type": "execute_result"
    }
   ],
   "source": [
    "# \n",
    "reconMat = (lowDDataMat * redEigVects.T) + meanVals\n",
    "reconMat[:10]"
   ]
  },
  {
   "cell_type": "code",
   "execution_count": 13,
   "metadata": {},
   "outputs": [
    {
     "data": {
      "image/png": "[encoded data removed]",
      "text/plain": [
       "<matplotlib.figure.Figure at 0x14bf623da58>"
      ]
     },
     "metadata": {},
     "output_type": "display_data"
    }
   ],
   "source": [
    "import matplotlib\n",
    "import matplotlib.pyplot as plt\n",
    "fig = plt.figure()\n",
    "ax = fig.add_subplot(111)\n",
    "ax.scatter(dataMat[:,0].flatten().A[0], dataMat[:,1].flatten().A[0], marker='^', s=90)\n",
    "ax.scatter(reconMat[:,0].flatten().A[0], reconMat[:,1].flatten().A[0], marker='.', s=1, c='red')\n",
    "\n",
    "ax.scatter(dataMat[:,0].flatten().A[0][10], dataMat[:,1].flatten().A[0][10], marker='o', s=90, c='blue')\n",
    "ax.scatter(reconMat[:,0].flatten().A[0][10], reconMat[:,1].flatten().A[0][10], marker='o', s=90, c='red')\n",
    "plt.show()"
   ]
  },
  {
   "cell_type": "code",
   "execution_count": null,
   "metadata": {
    "collapsed": true
   },
   "outputs": [],
   "source": []
  },
  {
   "cell_type": "code",
   "execution_count": 22,
   "metadata": {},
   "outputs": [
    {
     "name": "stdout",
     "output_type": "stream",
     "text": [
      "<class 'numpy.matrix'> [[1 2]]\n"
     ]
    }
   ],
   "source": [
    "a = np.array([1, 2])\n",
    "m = np.mat(a)\n",
    "print(type(m), m)"
   ]
  },
  {
   "cell_type": "code",
   "execution_count": 17,
   "metadata": {},
   "outputs": [
    {
     "data": {
      "text/plain": [
       "matrix([[1, 2]])"
      ]
     },
     "execution_count": 17,
     "metadata": {},
     "output_type": "execute_result"
    }
   ],
   "source": [
    "a = np.array([[1, 2]])\n",
    "m = np.mat(a)\n",
    "m"
   ]
  },
  {
   "cell_type": "code",
   "execution_count": 21,
   "metadata": {},
   "outputs": [
    {
     "name": "stdout",
     "output_type": "stream",
     "text": [
      "<class 'numpy.ndarray'> [[1 2]]\n",
      "<class 'numpy.ndarray'> [[1 2]]\n"
     ]
    }
   ],
   "source": [
    "a1 = m.A\n",
    "print(type(a1), a1)\n",
    "\n",
    "a2 = np.array(m)\n",
    "print(type(a2), a2)"
   ]
  },
  {
   "cell_type": "code",
   "execution_count": 20,
   "metadata": {},
   "outputs": [
    {
     "data": {
      "text/plain": [
       "array([[1, 2]])"
      ]
     },
     "execution_count": 20,
     "metadata": {},
     "output_type": "execute_result"
    }
   ],
   "source": [
    "np.array(m)"
   ]
  },
  {
   "cell_type": "code",
   "execution_count": null,
   "metadata": {
    "collapsed": true
   },
   "outputs": [],
   "source": []
  },
  {
   "cell_type": "code",
   "execution_count": null,
   "metadata": {
    "collapsed": true
   },
   "outputs": [],
   "source": []
  },
  {
   "cell_type": "code",
   "execution_count": null,
   "metadata": {
    "collapsed": true
   },
   "outputs": [],
   "source": []
  },
  {
   "cell_type": "code",
   "execution_count": null,
   "metadata": {
    "collapsed": true
   },
   "outputs": [],
   "source": []
  },
  {
   "cell_type": "code",
   "execution_count": null,
   "metadata": {
    "collapsed": true
   },
   "outputs": [],
   "source": []
  },
  {
   "cell_type": "code",
   "execution_count": null,
   "metadata": {
    "collapsed": true
   },
   "outputs": [],
   "source": []
  },
  {
   "cell_type": "code",
   "execution_count": null,
   "metadata": {
    "collapsed": true
   },
   "outputs": [],
   "source": []
  },
  {
   "cell_type": "code",
   "execution_count": null,
   "metadata": {
    "collapsed": true
   },
   "outputs": [],
   "source": []
  },
  {
   "cell_type": "code",
   "execution_count": null,
   "metadata": {
    "collapsed": true
   },
   "outputs": [],
   "source": []
  },
  {
   "cell_type": "code",
   "execution_count": null,
   "metadata": {
    "collapsed": true
   },
   "outputs": [],
   "source": []
  }
 ],
 "metadata": {
  "kernelspec": {
   "display_name": "Python 3",
   "language": "python",
   "name": "python3"
  },
  "language_info": {
   "codemirror_mode": {
    "name": "ipython",
    "version": 3
   },
   "file_extension": ".py",
   "mimetype": "text/x-python",
   "name": "python",
   "nbconvert_exporter": "python",
   "pygments_lexer": "ipython3",
   "version": "3.6.1"
  }
 },
 "nbformat": 4,
 "nbformat_minor": 2
}
