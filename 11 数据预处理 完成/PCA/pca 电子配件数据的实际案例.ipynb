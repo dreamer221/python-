{
 "cells": [
  {
   "cell_type": "code",
   "execution_count": 1,
   "metadata": {},
   "outputs": [
    {
     "name": "stdout",
     "output_type": "stream",
     "text": [
      "(590, 590)\n"
     ]
    },
    {
     "data": {
      "text/plain": [
       "array([0.59254058, 0.24123819, 0.09150014, 0.02300579, 0.01459192,\n",
       "       0.00518818, 0.00322658, 0.00314677, 0.0026308 , 0.00231307,\n",
       "       0.00217535, 0.00207282, 0.00169084, 0.00125591, 0.00120353,\n",
       "       0.00114092, 0.00111115, 0.00092458, 0.00090503, 0.00086145])"
      ]
     },
     "execution_count": 1,
     "metadata": {},
     "output_type": "execute_result"
    }
   ],
   "source": [
    "import numpy as np\n",
    "\n",
    "def loadDataSet(fileName, delim='\\t'):\n",
    "    fr = open(fileName)\n",
    "    stringArr = [line.strip().split(delim) for line in fr.readlines()]\n",
    "    datArr = [list(map(float, line)) for line in stringArr]\n",
    "    return np.array(datArr)\n",
    "\n",
    "def replaceNanWithMean(): \n",
    "    datMat = loadDataSet('secom.data', ' ')\n",
    "    numFeat = (datMat).shape[1]\n",
    "    for i in range(numFeat):\n",
    "        meanVal = np.mean(datMat[np.nonzero(~np.isnan(datMat[:,i]))[0],i])\n",
    "        datMat[np.nonzero(np.isnan(datMat[:,i]))[0],i] = meanVal\n",
    "    return datMat\n",
    "\n",
    "\n",
    "dataMat = replaceNanWithMean()\n",
    "meanVals = np.mean(dataMat, axis=0)\n",
    "# print(meanVals)\n",
    "meanRemoved = dataMat - meanVals # remove mean\n",
    "covMat = np.cov(meanRemoved, rowvar=0)\n",
    "print(covMat.shape)\n",
    "eigVals, eigVects = np.linalg.eig(covMat)\n",
    "\n",
    "res = np.real(eigVals)\n",
    "percen = res / res.sum()\n",
    "percen[:20]"
   ]
  },
  {
   "cell_type": "code",
   "execution_count": 2,
   "metadata": {},
   "outputs": [
    {
     "data": {
      "image/png": "[encoded data removed]",
      "text/plain": [
       "<matplotlib.figure.Figure at 0x123d187ba58>"
      ]
     },
     "metadata": {},
     "output_type": "display_data"
    }
   ],
   "source": [
    "import matplotlib.pyplot as plt\n",
    "# 特征值大小的分布图\n",
    "x = range(20)\n",
    "plt.plot(x, percen[:20])\n",
    "plt.show()"
   ]
  },
  {
   "cell_type": "code",
   "execution_count": 3,
   "metadata": {},
   "outputs": [
    {
     "data": {
      "text/plain": [
       "array([0.59254058, 0.83377877, 0.9252789 , 0.94828469, 0.96287661,\n",
       "       0.96806479, 0.97129137, 0.97443814, 0.97706893, 0.979382  ,\n",
       "       0.98155734, 0.98363016, 0.985321  , 0.98657691, 0.98778044,\n",
       "       0.98892136, 0.99003252, 0.9909571 , 0.99186213, 0.99272358,\n",
       "       0.99346245, 0.9941864 , 0.99484841, 0.99542112, 0.99597946,\n",
       "       0.99648382, 0.99697404, 0.997435  , 0.99782913, 0.9981968 ,\n",
       "       0.99849341, 0.99865661, 0.99881645, 0.99893773, 0.99905403,\n",
       "       0.99915929, 0.99925188, 0.99933205, 0.99939131, 0.99944629])"
      ]
     },
     "execution_count": 3,
     "metadata": {},
     "output_type": "execute_result"
    }
   ],
   "source": [
    "# 前40大特征值累计的和\n",
    "np.cumsum(percen)[:40]"
   ]
  },
  {
   "cell_type": "code",
   "execution_count": null,
   "metadata": {
    "collapsed": true
   },
   "outputs": [],
   "source": []
  }
 ],
 "metadata": {
  "kernelspec": {
   "display_name": "Python 3",
   "language": "python",
   "name": "python3"
  },
  "language_info": {
   "codemirror_mode": {
    "name": "ipython",
    "version": 3
   },
   "file_extension": ".py",
   "mimetype": "text/x-python",
   "name": "python",
   "nbconvert_exporter": "python",
   "pygments_lexer": "ipython3",
   "version": "3.6.1"
  }
 },
 "nbformat": 4,
 "nbformat_minor": 2
}
