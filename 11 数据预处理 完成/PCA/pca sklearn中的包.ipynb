{
 "cells": [
  {
   "cell_type": "code",
   "execution_count": 13,
   "metadata": {},
   "outputs": [
    {
     "name": "stdout",
     "output_type": "stream",
     "text": [
      "X形状: (150, 4)\n",
      "主成分数组 : \n",
      " [[ 0.36158968 -0.08226889  0.85657211  0.35884393]\n",
      " [ 0.65653988  0.72971237 -0.1757674  -0.07470647]\n",
      " [-0.58099728  0.59641809  0.07252408  0.54906091]\n",
      " [ 0.31725455 -0.32409435 -0.47971899  0.75112056]]\n",
      "\n",
      "方差比例 : \n",
      " [0.92461621 0.05301557 0.01718514 0.00518309]\n",
      "\n",
      "主成分有多少元素 : \n",
      " 4\n"
     ]
    }
   ],
   "source": [
    "import numpy as np\n",
    "import matplotlib.pyplot as plt\n",
    "from sklearn import datasets, decomposition\n",
    "\n",
    "iris = datasets.load_iris()  # 使用 scikit-learn 自带的 iris 数据集\n",
    "X, y = iris.data, iris.target\n",
    "print(\"X形状:\", X.shape)\n",
    "pca = decomposition.PCA(n_components=4)\n",
    "pca.fit(X)\n",
    "\n",
    "print('主成分数组 : \\n', pca.components_)\n",
    "print('\\n方差比例 : \\n', pca.explained_variance_ratio_)\n",
    "print('\\n主成分有多少元素 : \\n', pca.n_components_)"
   ]
  },
  {
   "cell_type": "code",
   "execution_count": null,
   "metadata": {
    "collapsed": true
   },
   "outputs": [],
   "source": []
  }
 ],
 "metadata": {
  "kernelspec": {
   "display_name": "Python 3",
   "language": "python",
   "name": "python3"
  },
  "language_info": {
   "codemirror_mode": {
    "name": "ipython",
    "version": 3
   },
   "file_extension": ".py",
   "mimetype": "text/x-python",
   "name": "python",
   "nbconvert_exporter": "python",
   "pygments_lexer": "ipython3",
   "version": "3.6.1"
  }
 },
 "nbformat": 4,
 "nbformat_minor": 2
}
