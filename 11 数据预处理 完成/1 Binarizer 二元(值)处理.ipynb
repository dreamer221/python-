{
 "cells": [
  {
   "cell_type": "code",
   "execution_count": 1,
   "metadata": {},
   "outputs": [],
   "source": [
    "from sklearn.preprocessing import Binarizer\n",
    "import numpy as np\n",
    "import pandas as pd"
   ]
  },
  {
   "cell_type": "code",
   "execution_count": 2,
   "metadata": {},
   "outputs": [
    {
     "name": "stdout",
     "output_type": "stream",
     "text": [
      "[[0. 0. 1. 1. 0.]\n",
      " [1. 1. 1. 0. 0.]\n",
      " [1. 1. 1. 1. 1.]\n",
      " [0. 0. 0. 0. 0.]]\n",
      "[[1, 2, 3, 4, 2.5], [5, 4, 3, 2, 1], [3, 3, 3, 3, 3], [1, 1, 1, 1, 1]]\n"
     ]
    }
   ],
   "source": [
    "# list\n",
    "X = [[1, 2, 3, 4, 2.5],\n",
    "     [5, 4, 3, 2, 1],\n",
    "     [3, 3, 3, 3, 3],\n",
    "     [1, 1, 1, 1, 1]]\n",
    "binarizer = Binarizer(threshold=2.5, copy=True)\n",
    "res = binarizer.transform(X)\n",
    "print(res)\n",
    "print(X)  # 原始值并不变化,如果希望变化需要增加参数"
   ]
  },
  {
   "cell_type": "code",
   "execution_count": 3,
   "metadata": {},
   "outputs": [
    {
     "data": {
      "text/plain": [
       "array([[0, 0, 0, 1, 1],\n",
       "       [1, 1, 0, 0, 0]])"
      ]
     },
     "execution_count": 3,
     "metadata": {},
     "output_type": "execute_result"
    }
   ],
   "source": [
    "# np\n",
    "X = [[1, 2, 3, 4, 5],\n",
    "     [5, 4, 3, 2, 1]]\n",
    "x = np.array(X)\n",
    "binarizer = Binarizer(threshold=3)\n",
    "res = binarizer.transform(x)\n",
    "res"
   ]
  },
  {
   "cell_type": "code",
   "execution_count": 4,
   "metadata": {},
   "outputs": [
    {
     "name": "stdout",
     "output_type": "stream",
     "text": [
      "[1.4 1.4 4.7 4.3 5.2 5.4]\n"
     ]
    },
    {
     "data": {
      "text/plain": [
       "array([[0.],\n",
       "       [0.],\n",
       "       [1.],\n",
       "       [1.],\n",
       "       [1.],\n",
       "       [1.]])"
      ]
     },
     "execution_count": 4,
     "metadata": {},
     "output_type": "execute_result"
    }
   ],
   "source": [
    "# dataFrame\n",
    "data = pd.read_csv(\"iris.data\", header=None)\n",
    "x = data.iloc[:, 2]\n",
    "print(x.values)\n",
    "binarizer = Binarizer(threshold=3.0)\n",
    "res = binarizer.transform(x.values.reshape(-1, 1))  # transform 接收二维的数组\n",
    "res"
   ]
  },
  {
   "cell_type": "code",
   "execution_count": 5,
   "metadata": {},
   "outputs": [
    {
     "data": {
      "text/plain": [
       "0    1.4\n",
       "1    1.4\n",
       "2    4.7\n",
       "3    4.3\n",
       "4    5.2\n",
       "5    5.4\n",
       "Name: 2, dtype: float64"
      ]
     },
     "execution_count": 5,
     "metadata": {},
     "output_type": "execute_result"
    }
   ],
   "source": [
    "x"
   ]
  }
 ],
 "metadata": {
  "kernelspec": {
   "display_name": "Python 3",
   "language": "python",
   "name": "python3"
  },
  "language_info": {
   "codemirror_mode": {
    "name": "ipython",
    "version": 3
   },
   "file_extension": ".py",
   "mimetype": "text/x-python",
   "name": "python",
   "nbconvert_exporter": "python",
   "pygments_lexer": "ipython3",
   "version": "3.7.4"
  }
 },
 "nbformat": 4,
 "nbformat_minor": 2
}
