{
 "cells": [
  {
   "cell_type": "code",
   "execution_count": 4,
   "metadata": {},
   "outputs": [
    {
     "data": {
      "text/plain": [
       "(1347, 64)"
      ]
     },
     "execution_count": 4,
     "metadata": {},
     "output_type": "execute_result"
    }
   ],
   "source": [
    "# -*- coding: utf-8 -*-\n",
    "from sklearn import datasets, naive_bayes\n",
    "from sklearn.model_selection import train_test_split\n",
    "import matplotlib.pyplot as plt\n",
    "import numpy as np\n",
    "\n",
    "digits = datasets.load_digits()  # 加载 scikit-learn 自带的 digits 数据集\n",
    "X_train, X_test, y_train, y_test =  train_test_split(digits.data, digits.target,\n",
    "                                                     test_size=0.25, \n",
    "                                                     random_state=0,\n",
    "                                                     stratify=digits.target)\n",
    "X_train.shape"
   ]
  },
  {
   "cell_type": "markdown",
   "metadata": {},
   "source": [
    "### 高斯分布没有参数不用调整"
   ]
  },
  {
   "cell_type": "code",
   "execution_count": 5,
   "metadata": {},
   "outputs": [
    {
     "name": "stdout",
     "output_type": "stream",
     "text": [
      "训练集: 0.85\n",
      "测试集: 0.84\n",
      "每个类别的比例: [0.09873794 0.10096511 0.09873794 0.1017075  0.10096511 0.10096511\n",
      " 0.10096511 0.09948033 0.09725316 0.10022272]\n"
     ]
    }
   ],
   "source": [
    "cls = naive_bayes.GaussianNB()\n",
    "cls.fit(X_train, y_train)\n",
    "\n",
    "print('训练集: %.2f' % cls.score(X_train, y_train))\n",
    "print('测试集: %.2f' % cls.score(X_test, y_test))\n",
    "print(\"每个类别的比例:\", cls.class_prior_)"
   ]
  },
  {
   "cell_type": "code",
   "execution_count": 6,
   "metadata": {},
   "outputs": [
    {
     "name": "stdout",
     "output_type": "stream",
     "text": [
      "\n",
      "训练集每个类别的数量: [133. 136. 133. 137. 136. 136. 136. 134. 131. 135.] 1347.0\n",
      "比例: [0.09873794 0.10096511 0.09873794 0.1017075  0.10096511 0.10096511\n",
      " 0.10096511 0.09948033 0.09725316 0.10022272]\n"
     ]
    }
   ],
   "source": [
    "print(\"训练集每个类别的数量:\", cls.class_count_, cls.class_count_.sum())\n",
    "print(\"比例:\", cls.class_count_ / cls.class_count_.sum())"
   ]
  },
  {
   "cell_type": "code",
   "execution_count": null,
   "metadata": {
    "collapsed": true
   },
   "outputs": [],
   "source": []
  },
  {
   "cell_type": "code",
   "execution_count": null,
   "metadata": {
    "collapsed": true
   },
   "outputs": [],
   "source": []
  }
 ],
 "metadata": {
  "kernelspec": {
   "display_name": "Python 3",
   "language": "python",
   "name": "python3"
  },
  "language_info": {
   "codemirror_mode": {
    "name": "ipython",
    "version": 3
   },
   "file_extension": ".py",
   "mimetype": "text/x-python",
   "name": "python",
   "nbconvert_exporter": "python",
   "pygments_lexer": "ipython3",
   "version": "3.6.1"
  }
 },
 "nbformat": 4,
 "nbformat_minor": 2
}
