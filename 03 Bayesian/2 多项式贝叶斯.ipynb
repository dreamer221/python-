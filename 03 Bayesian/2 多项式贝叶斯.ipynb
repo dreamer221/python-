{
 "cells": [
  {
   "cell_type": "code",
   "execution_count": 5,
   "metadata": {},
   "outputs": [],
   "source": [
    "# -*- coding: utf-8 -*-\n",
    "from sklearn import datasets, naive_bayes\n",
    "from sklearn.model_selection import train_test_split\n",
    "import matplotlib.pyplot as plt\n",
    "import  numpy as np\n",
    "\n",
    "digits = datasets.load_digits()  # 加载 scikit-learn 自带的 digits 数据集\n",
    "X_train, X_test, y_train, y_test =  train_test_split(digits.data, \n",
    "                                                     digits.target,\n",
    "                                                     test_size=0.3, \n",
    "                                                     random_state=1,\n",
    "                                                     stratify=digits.target)"
   ]
  },
  {
   "cell_type": "code",
   "execution_count": 10,
   "metadata": {},
   "outputs": [
    {
     "name": "stdout",
     "output_type": "stream",
     "text": [
      "每个类别数量: [124. 127. 124. 128. 127. 127. 127. 125. 122. 126.]\n",
      "每个类别调整前的概率: [0.09864757 0.10103421 0.09864757]\n",
      "每个类别调整后的概率: [0.09864757 0.10103421 0.09864757]\n",
      "alpha = 0 测试集得分: 0.10\n"
     ]
    },
    {
     "name": "stderr",
     "output_type": "stream",
     "text": [
      "E:\\software\\anaconda3\\lib\\site-packages\\sklearn\\naive_bayes.py:699: RuntimeWarning: divide by zero encountered in log\n",
      "  self.feature_log_prob_ = (np.log(smoothed_fc) -\n"
     ]
    }
   ],
   "source": [
    "cls = naive_bayes.MultinomialNB(alpha=0)\n",
    "cls.fit(X_train, y_train)\n",
    "\n",
    "print(\"每个类别数量:\", (cls.class_count_))\n",
    "print(\"每个类别调整前的概率:\", (cls.class_count_/(cls.class_count_.sum()))[:3])\n",
    "print(\"每个类别调整后的概率:\", (np.exp(cls.class_log_prior_))[:3])\n",
    "print('alpha = 0 测试集得分: %.2f' % cls.score(X_test, y_test))"
   ]
  },
  {
   "cell_type": "code",
   "execution_count": 11,
   "metadata": {},
   "outputs": [
    {
     "name": "stdout",
     "output_type": "stream",
     "text": [
      "每个类别数量: [124. 127. 124. 128. 127. 127. 127. 125. 122. 126.]\n",
      "每个类别调整前的概率: [0.09864757 0.10103421 0.09864757]\n",
      "每个类别调整后的概率: [0.09864757 0.10103421 0.09864757]\n",
      "alpha = 1 测试集得分: 0.90\n"
     ]
    }
   ],
   "source": [
    "cls1 = naive_bayes.MultinomialNB() # 默认情况 alpha=1,拉普拉斯平滑\n",
    "cls1.fit(X_train, y_train)\n",
    "\n",
    "print(\"每个类别数量:\", (cls1.class_count_))\n",
    "print(\"每个类别调整前的概率:\", (cls1.class_count_/(cls1.class_count_.sum()))[:3])\n",
    "print(\"每个类别调整后的概率:\", (np.exp(cls1.class_log_prior_))[:3])\n",
    "print('alpha = 1 测试集得分: %.2f' % cls1.score(X_test, y_test))"
   ]
  },
  {
   "cell_type": "code",
   "execution_count": 4,
   "metadata": {},
   "outputs": [
    {
     "data": {
      "image/png": "[encoded data removed]",
      "text/plain": [
       "<matplotlib.figure.Figure at 0x253c3264da0>"
      ]
     },
     "metadata": {},
     "output_type": "display_data"
    }
   ],
   "source": [
    "def test_MultinomialNB_alpha(*data):\n",
    "    '''\n",
    "    性能随 alpha 参数的影响\n",
    "    '''\n",
    "    X_train, X_test, y_train, y_test = data\n",
    "    alphas = np.logspace(-2, 5, num=200)\n",
    "    train_scores = []\n",
    "    test_scores = []\n",
    "    for alpha in alphas:\n",
    "        cls = naive_bayes.MultinomialNB(alpha=alpha)\n",
    "        cls.fit(X_train, y_train)\n",
    "        train_scores.append(cls.score(X_train, y_train))\n",
    "        test_scores.append(cls.score(X_test, y_test))\n",
    "\n",
    "    ## 绘图\n",
    "    fig = plt.figure(figsize=(10,  7))\n",
    "    ax = fig.add_subplot(1, 1, 1)\n",
    "    ax.plot(alphas, train_scores, label=\"Training Score\")\n",
    "    ax.plot(alphas, test_scores, label=\"Testing Score\")\n",
    "    ax.set_xlabel(r\"$\\alpha$\")\n",
    "    ax.set_ylabel(\"score\")\n",
    "    ax.set_ylim(0.8, 1.0)\n",
    "    ax.set_title(\"MultinomialNB--alpha\")\n",
    "    ax.set_xscale(\"log\")\n",
    "    ax.grid(True)\n",
    "    plt.show()\n",
    "    \n",
    "test_MultinomialNB_alpha(X_train, X_test, y_train, y_test)"
   ]
  },
  {
   "cell_type": "code",
   "execution_count": null,
   "metadata": {
    "collapsed": true
   },
   "outputs": [],
   "source": []
  },
  {
   "cell_type": "code",
   "execution_count": null,
   "metadata": {
    "collapsed": true
   },
   "outputs": [],
   "source": []
  }
 ],
 "metadata": {
  "kernelspec": {
   "display_name": "Python 3",
   "language": "python",
   "name": "python3"
  },
  "language_info": {
   "codemirror_mode": {
    "name": "ipython",
    "version": 3
   },
   "file_extension": ".py",
   "mimetype": "text/x-python",
   "name": "python",
   "nbconvert_exporter": "python",
   "pygments_lexer": "ipython3",
   "version": "3.6.1"
  }
 },
 "nbformat": 4,
 "nbformat_minor": 2
}
