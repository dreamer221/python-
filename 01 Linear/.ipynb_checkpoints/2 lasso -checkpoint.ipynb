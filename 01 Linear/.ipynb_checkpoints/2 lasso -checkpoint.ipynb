{
 "cells": [
  {
   "cell_type": "code",
   "execution_count": 7,
   "metadata": {},
   "outputs": [],
   "source": [
    "# -*- coding: utf-8 -*-\n",
    "import matplotlib.pyplot as plt\n",
    "import numpy as np\n",
    "from sklearn import datasets, linear_model\n",
    "from sklearn.model_selection import train_test_split\n",
    "import matplotlib as mpl\n",
    "# mpl.rcParams['font.sans-serif'] = ['FangSong']\n",
    "mpl.rcParams['axes.unicode_minus'] = False"
   ]
  },
  {
   "cell_type": "code",
   "execution_count": 8,
   "metadata": {},
   "outputs": [
    {
     "name": "stdout",
     "output_type": "stream",
     "text": [
      "权重系数: [  0.          -0.         442.67992538   0.           0.\n",
      "   0.          -0.           0.         330.76014648   0.        ]\n",
      "常数项: 152.52260710501807\n",
      "\n",
      "MSE: 3583.4215227615487\n",
      "R^2: 0.27817828862078764\n"
     ]
    }
   ],
   "source": [
    "# 使用 scikit-learn 自带的一个糖尿病病人的数据集\n",
    "diabetes = datasets.load_diabetes()  \n",
    "X_train, X_test, y_train, y_test = train_test_split(diabetes.data, diabetes.target, test_size=0.25, random_state=0)  \n",
    "\n",
    "regr = linear_model.Lasso()\n",
    "regr.fit(X_train, y_train)\n",
    "print('权重系数:', regr.coef_)\n",
    "print('常数项:', regr.intercept_) # intercept 翻译为 截距\n",
    "mse = np.mean((regr.predict(X_test) - y_test) ** 2)\n",
    "print(\"\\nMSE:\", mse)\n",
    "print('R^2:', regr.score(X_test, y_test))"
   ]
  },
  {
   "cell_type": "code",
   "execution_count": 17,
   "metadata": {},
   "outputs": [
    {
     "name": "stderr",
     "output_type": "stream",
     "text": [
      "E:\\software\\anaconda3\\lib\\site-packages\\matplotlib\\mathtext.py:866: MathTextWarning: Font 'default' does not have a glyph for '-' [U+2212]\n",
      "  MathTextWarning)\n",
      "E:\\software\\anaconda3\\lib\\site-packages\\matplotlib\\mathtext.py:867: MathTextWarning: Substituting with a dummy symbol.\n",
      "  warn(\"Substituting with a dummy symbol.\", MathTextWarning)\n"
     ]
    },
    {
     "data": {
      "image/png": "[encoded data removed]",
      "text/plain": [
       "<matplotlib.figure.Figure at 0x10dcf10e208>"
      ]
     },
     "metadata": {},
     "output_type": "display_data"
    }
   ],
   "source": [
    "def test_Lasso_alpha(*data):\n",
    "    '''\n",
    "    性能随 alpha 参数的影响\n",
    "    '''\n",
    "    X_train, X_test, y_train, y_test = data\n",
    "    alphas = np.logspace(-3, 3, 20)\n",
    "    scores = []\n",
    "    for i, alpha in enumerate(alphas):\n",
    "        regr = linear_model.Lasso(alpha=alpha)\n",
    "        regr.fit(X_train, y_train)\n",
    "        scores.append(regr.score(X_test, y_test))\n",
    "    ## 绘图\n",
    "    fig = plt.figure(figsize=(10, 7))\n",
    "    ax = fig.add_subplot(1, 1, 1)\n",
    "    ax.plot(alphas, scores)\n",
    "    ax.tick_params(labelsize=15)\n",
    "    ax.set_xlabel(r\"$\\alpha$\", fontsize=20)\n",
    "    ax.set_ylabel(r\"score\", fontsize=20)\n",
    "    ax.set_xscale('log')\n",
    "    ax.set_title(\"Lasso引起的变化\", fontsize=20)\n",
    "    plt.grid()\n",
    "    plt.show()\n",
    "    \n",
    "test_Lasso_alpha(X_train,X_test,y_train,y_test)"
   ]
  },
  {
   "cell_type": "code",
   "execution_count": null,
   "metadata": {
    "collapsed": true
   },
   "outputs": [],
   "source": []
  },
  {
   "cell_type": "code",
   "execution_count": null,
   "metadata": {
    "collapsed": true
   },
   "outputs": [],
   "source": []
  }
 ],
 "metadata": {
  "kernelspec": {
   "display_name": "Python 3",
   "language": "python",
   "name": "python3"
  },
  "language_info": {
   "codemirror_mode": {
    "name": "ipython",
    "version": 3
   },
   "file_extension": ".py",
   "mimetype": "text/x-python",
   "name": "python",
   "nbconvert_exporter": "python",
   "pygments_lexer": "ipython3",
   "version": "3.6.1"
  }
 },
 "nbformat": 4,
 "nbformat_minor": 2
}
