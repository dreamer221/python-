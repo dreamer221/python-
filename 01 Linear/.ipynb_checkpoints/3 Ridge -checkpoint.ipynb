{
 "cells": [
  {
   "cell_type": "code",
   "execution_count": 8,
   "metadata": {},
   "outputs": [],
   "source": [
    "# -*- coding: utf-8 -*-\n",
    "import matplotlib.pyplot as plt\n",
    "import numpy as np\n",
    "from sklearn import datasets, linear_model, cross_validation\n",
    "from sklearn.model_selection import train_test_split\n",
    "import matplotlib as mpl\n",
    "plt.rcParams['font.sans-serif'] = 'SimHei'\n",
    "#设置正常显示字符\n",
    "plt.rcParams['axes.unicode_minus'] = True"
   ]
  },
  {
   "cell_type": "code",
   "execution_count": 9,
   "metadata": {},
   "outputs": [
    {
     "name": "stdout",
     "output_type": "stream",
     "text": [
      "(331, 10)\n",
      "[[-0.04910502 -0.04464164 -0.05686312 -0.04354219 -0.04559945 -0.04327577\n",
      "   0.00077881 -0.03949338 -0.01190068  0.01549073]\n",
      " [-0.05273755 -0.04464164 -0.05578531 -0.03665645  0.08924393 -0.00319277\n",
      "   0.00814208  0.03430886  0.13237265  0.00306441]]\n"
     ]
    }
   ],
   "source": [
    "# 使用 scikit-learn 自带的一个糖尿病病人的数据集\n",
    "diabetes = datasets.load_diabetes()  \n",
    "X_train, X_test, y_train, y_test = train_test_split(diabetes.data, \n",
    "                                                     diabetes.target,\n",
    "                                                     test_size=0.25, \n",
    "                                                     random_state=0) \n",
    "print(X_train.shape)\n",
    "print(X_train[:2])"
   ]
  },
  {
   "cell_type": "code",
   "execution_count": 10,
   "metadata": {},
   "outputs": [
    {
     "name": "stdout",
     "output_type": "stream",
     "text": [
      "权重系数: [  21.19927911  -60.47711393  302.87575204  179.41206395    8.90911449\n",
      "  -28.8080548  -149.30722541  112.67185758  250.53760873   99.57749017]\n",
      "常数项: 152.4477761489962\n",
      "\n",
      "MSE: 3192.3285539937624\n",
      "Score: 0.35695757658096805\n"
     ]
    }
   ],
   "source": [
    "regr = linear_model.Ridge()# 默认 alphas = 1.0\n",
    "regr.fit(X_train, y_train)\n",
    "print('权重系数:', regr.coef_)\n",
    "print('常数项:', regr.intercept_) # intercept 翻译为 截距\n",
    "mse = np.mean((regr.predict(X_test) - y_test) ** 2)\n",
    "print(\"\\nMSE:\", mse)\n",
    "print('Score:', regr.score(X_test, y_test))"
   ]
  },
  {
   "cell_type": "code",
   "execution_count": 14,
   "metadata": {},
   "outputs": [
    {
     "name": "stderr",
     "output_type": "stream",
     "text": [
      "E:\\software\\anaconda3\\lib\\site-packages\\matplotlib\\mathtext.py:866: MathTextWarning: Font 'default' does not have a glyph for '-' [U+2212]\n",
      "  MathTextWarning)\n",
      "E:\\software\\anaconda3\\lib\\site-packages\\matplotlib\\mathtext.py:867: MathTextWarning: Substituting with a dummy symbol.\n",
      "  warn(\"Substituting with a dummy symbol.\", MathTextWarning)\n"
     ]
    },
    {
     "data": {
      "image/png": "[encoded data removed]",
      "text/plain": [
       "<matplotlib.figure.Figure at 0x21d28f2e0f0>"
      ]
     },
     "metadata": {},
     "output_type": "display_data"
    }
   ],
   "source": [
    "def test_Ridge_alpha(*data):\n",
    "    '''\n",
    "    测试 Ridge 的预测性能随 alpha 参数的影响\n",
    "    '''\n",
    "    X_train, X_test, y_train, y_test = data\n",
    "    alphas = np.logspace(-4, 2, 20)\n",
    "    scores = []\n",
    "    for i, alpha in enumerate(alphas):\n",
    "        regr = linear_model.Ridge(alpha=alpha)\n",
    "        regr.fit(X_train, y_train)\n",
    "        scores.append(regr.score(X_test, y_test))\n",
    "    ## 绘图\n",
    "    fig = plt.figure(figsize=(10, 7))\n",
    "    ax = fig.add_subplot(1, 1, 1)\n",
    "    ax.plot(alphas, scores)\n",
    "    ax.set_xlabel(r\"$\\alpha$\", fontsize=20)\n",
    "    ax.set_ylabel(r\"score\", fontsize=20)\n",
    "    ax.set_xscale('log')\n",
    "    ax.set_title(\"Ridge引起的变化\", fontsize=20)\n",
    "    ax.tick_params(labelsize=15)\n",
    "    plt.show()\n",
    "\n",
    "test_Ridge_alpha(X_train, X_test, y_train, y_test)"
   ]
  },
  {
   "cell_type": "code",
   "execution_count": null,
   "metadata": {
    "collapsed": true
   },
   "outputs": [],
   "source": []
  },
  {
   "cell_type": "code",
   "execution_count": null,
   "metadata": {
    "collapsed": true
   },
   "outputs": [],
   "source": []
  }
 ],
 "metadata": {
  "kernelspec": {
   "display_name": "Python 3",
   "language": "python",
   "name": "python3"
  },
  "language_info": {
   "codemirror_mode": {
    "name": "ipython",
    "version": 3
   },
   "file_extension": ".py",
   "mimetype": "text/x-python",
   "name": "python",
   "nbconvert_exporter": "python",
   "pygments_lexer": "ipython3",
   "version": "3.6.1"
  }
 },
 "nbformat": 4,
 "nbformat_minor": 2
}
