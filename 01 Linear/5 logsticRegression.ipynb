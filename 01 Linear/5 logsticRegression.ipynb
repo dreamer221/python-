{
 "cells": [
  {
   "cell_type": "code",
   "execution_count": 5,
   "metadata": {},
   "outputs": [],
   "source": [
    "# -*- coding: utf-8 -*-\n",
    "import matplotlib.pyplot as plt\n",
    "import numpy as np\n",
    "from sklearn import datasets, linear_model\n",
    "from sklearn.model_selection import train_test_split\n",
    "\n",
    "iris = datasets.load_iris()  # 使用 scikit-learn 自带的 iris 数据集\n",
    "X_train = iris.data\n",
    "y_train = iris.target\n",
    "X_train, X_test, y_train, y_test = train_test_split(X_train, y_train, \n",
    "                                                    test_size=0.25,\n",
    "                                                    random_state=0, \n",
    "                                                    stratify=y_train)"
   ]
  },
  {
   "cell_type": "code",
   "execution_count": 15,
   "metadata": {},
   "outputs": [
    {
     "name": "stdout",
     "output_type": "stream",
     "text": [
      "LogisticRegression(C=1.0, class_weight=None, dual=False, fit_intercept=True,\n",
      "          intercept_scaling=1, max_iter=100, multi_class='multinomial',\n",
      "          n_jobs=1, penalty='l2', random_state=None, solver='lbfgs',\n",
      "          tol=0.0001, verbose=0, warm_start=False)\n",
      "\n",
      "权重系数:\n",
      " [[-0.3838686   0.854964   -2.27247047 -0.98459556]\n",
      " [ 0.34373975 -0.37380738 -0.03041628 -0.86124705]\n",
      " [ 0.04012885 -0.48115662  2.30288675  1.8458426 ]]\n",
      "\n",
      "常数项:\n",
      " [  8.80139181   2.46800643 -11.26939824]\n",
      "\n",
      "Score: 1.00\n"
     ]
    }
   ],
   "source": [
    "regr = linear_model.LogisticRegression(solver='lbfgs', multi_class='multinomial')\n",
    "print(regr)\n",
    "regr.fit(X_train, y_train)\n",
    "print('\\n权重系数:\\n', regr.coef_)\n",
    "print('\\n常数项:\\n', regr.intercept_)\n",
    "print('\\nScore: %.2f' % regr.score(X_test, y_test))"
   ]
  },
  {
   "cell_type": "code",
   "execution_count": 17,
   "metadata": {},
   "outputs": [
    {
     "name": "stdout",
     "output_type": "stream",
     "text": [
      "[[5.  2.  3.5 1. ]] 1\n",
      "线性组合的结果 [[-0.34626537  2.47138639 -2.12512102]]\n",
      "算得的sofmax的结果: [[0.05584617 0.93472526 0.00942858]]\n",
      "根据模型预测的结果: [[0.05584617 0.93472526 0.00942858]]\n"
     ]
    }
   ],
   "source": [
    "# 测试其中的一个样本,并验证计算过程\n",
    "x0 = X_train[0].reshape(1, -1)\n",
    "y0 = y_train[0]\n",
    "print(x0, y0)\n",
    "res = np.dot(x0, regr.coef_.T) + regr.intercept_\n",
    "print(\"线性组合的结果\", res)\n",
    "softmax = np.exp(res)\n",
    "print(\"算得的sofmax的结果:\", softmax/np.sum(softmax))\n",
    "print(\"根据模型预测的结果:\", regr.predict_proba(x0))"
   ]
  },
  {
   "cell_type": "code",
   "execution_count": 3,
   "metadata": {},
   "outputs": [
    {
     "name": "stdout",
     "output_type": "stream",
     "text": [
      "LogisticRegression(C=1.0, class_weight=None, dual=False, fit_intercept=True,\n",
      "          intercept_scaling=1, max_iter=100, multi_class='multinomial',\n",
      "          n_jobs=1, penalty='l2', random_state=None, solver='lbfgs',\n",
      "          tol=0.0001, verbose=0, warm_start=False)\n",
      "\n",
      "权重系数:\n",
      " [[-0.3838686   0.854964   -2.27247047 -0.98459556]\n",
      " [ 0.34373975 -0.37380738 -0.03041628 -0.86124705]\n",
      " [ 0.04012885 -0.48115662  2.30288675  1.8458426 ]]\n",
      "\n",
      "常数项:\n",
      " [  8.80139181   2.46800643 -11.26939824]\n",
      "\n",
      "Score: 1.00\n"
     ]
    }
   ],
   "source": [
    "def test_LogisticRegression_multinomial(*data):\n",
    "    '''\n",
    "    预测性能随 multi_class 参数的影响\n",
    "    '''\n",
    "    X_train, X_test, y_train, y_test = data\n",
    "    regr = linear_model.LogisticRegression(multi_class='multinomial', \n",
    "                                           solver='lbfgs')\n",
    "    print(regr)\n",
    "    regr.fit(X_train, y_train)\n",
    "    print('\\n权重系数:\\n', regr.coef_)\n",
    "    print('\\n常数项:\\n', regr.intercept_)\n",
    "    print('\\nScore: %.2f' % regr.score(X_test, y_test))\n",
    "    \n",
    "test_LogisticRegression_multinomial(X_train, X_test, y_train, y_test)"
   ]
  },
  {
   "cell_type": "code",
   "execution_count": 4,
   "metadata": {},
   "outputs": [
    {
     "data": {
      "image/png": "[encoded data removed]",
      "text/plain": [
       "<matplotlib.figure.Figure at 0x25fa5325f98>"
      ]
     },
     "metadata": {},
     "output_type": "display_data"
    }
   ],
   "source": [
    "def test_LogisticRegression_C(*data):\n",
    "    '''\n",
    "    测试 LogisticRegression 的预测性能随  C  参数的影响\n",
    "    '''\n",
    "    X_train, X_test, y_train, y_test = data\n",
    "    Cs = np.logspace(-2, 1, num=100)\n",
    "    scores = []\n",
    "    for C in Cs:\n",
    "        regr = linear_model.LogisticRegression(C=C)\n",
    "        regr.fit(X_train, y_train)\n",
    "        scores.append(regr.score(X_test, y_test))\n",
    "    ## 绘图\n",
    "    fig = plt.figure(figsize=(10, 7))\n",
    "    ax = fig.add_subplot(1, 1, 1)\n",
    "    ax.plot(Cs, scores)\n",
    "    ax.set_xlabel(r\"C\")\n",
    "    ax.set_ylabel(r\"score\")\n",
    "    ax.set_xscale('log')\n",
    "    ax.set_title(\"LogisticRegression\")\n",
    "    plt.show()\n",
    "\n",
    "\n",
    "test_LogisticRegression_C(X_train, X_test, y_train, y_test)"
   ]
  },
  {
   "cell_type": "code",
   "execution_count": null,
   "metadata": {
    "collapsed": true
   },
   "outputs": [],
   "source": []
  },
  {
   "cell_type": "code",
   "execution_count": null,
   "metadata": {
    "collapsed": true
   },
   "outputs": [],
   "source": []
  }
 ],
 "metadata": {
  "kernelspec": {
   "display_name": "Python 3",
   "language": "python",
   "name": "python3"
  },
  "language_info": {
   "codemirror_mode": {
    "name": "ipython",
    "version": 3
   },
   "file_extension": ".py",
   "mimetype": "text/x-python",
   "name": "python",
   "nbconvert_exporter": "python",
   "pygments_lexer": "ipython3",
   "version": "3.6.1"
  }
 },
 "nbformat": 4,
 "nbformat_minor": 2
}
