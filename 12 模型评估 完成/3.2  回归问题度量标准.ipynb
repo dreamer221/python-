{
 "cells": [
  {
   "cell_type": "code",
   "execution_count": 2,
   "metadata": {},
   "outputs": [
    {
     "name": "stdout",
     "output_type": "stream",
     "text": [
      "误差绝对值平均数: 0.71\n",
      "误差平方平均数: 1.039\n"
     ]
    }
   ],
   "source": [
    "from sklearn.metrics import mean_absolute_error, mean_squared_error\n",
    "\n",
    "y_true = [1,.5,1,1,1,3,2,2,0,0]\n",
    "y_pred = [0,0.2,0,1,1.2,1,0,1.5,0.1,0]\n",
    "\n",
    "print(\"误差绝对值平均数:\",mean_absolute_error(y_true, y_pred))\n",
    "print(\"误差平方平均数:\",mean_squared_error(y_true, y_pred))"
   ]
  },
  {
   "cell_type": "code",
   "execution_count": null,
   "metadata": {
    "collapsed": true
   },
   "outputs": [],
   "source": []
  }
 ],
 "metadata": {
  "kernelspec": {
   "display_name": "Python 3",
   "language": "python",
   "name": "python3"
  },
  "language_info": {
   "codemirror_mode": {
    "name": "ipython",
    "version": 3
   },
   "file_extension": ".py",
   "mimetype": "text/x-python",
   "name": "python",
   "nbconvert_exporter": "python",
   "pygments_lexer": "ipython3",
   "version": "3.6.1"
  }
 },
 "nbformat": 4,
 "nbformat_minor": 2
}
