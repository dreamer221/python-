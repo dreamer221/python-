{
 "cells": [
  {
   "cell_type": "markdown",
   "metadata": {},
   "source": [
    "## 1 分类问题度量标准\n",
    "### 1.1 二分类"
   ]
  },
  {
   "cell_type": "code",
   "execution_count": 1,
   "metadata": {},
   "outputs": [
    {
     "name": "stdout",
     "output_type": "stream",
     "text": [
      "准确率: 0.4\n",
      "正确的数量: 2\n"
     ]
    }
   ],
   "source": [
    "y_true = [1, 0, 1, 0, 1]\n",
    "y_pred = [0, 0, 1, 1, 0]\n",
    "\n",
    "from sklearn.metrics import accuracy_score\n",
    "print('准确率:', accuracy_score(y_true, y_pred, normalize=True))\n",
    "print('正确的数量:', accuracy_score(y_true, y_pred, normalize=False))"
   ]
  },
  {
   "cell_type": "code",
   "execution_count": 2,
   "metadata": {},
   "outputs": [
    {
     "name": "stdout",
     "output_type": "stream",
     "text": [
      "查准率: 0.5\n",
      "查全率: 0.3333333333333333\n"
     ]
    }
   ],
   "source": [
    "from sklearn.metrics import precision_score, recall_score\n",
    "\n",
    "print('查准率:', precision_score(y_true, y_pred))\n",
    "print('查全率:', recall_score(y_true, y_pred))"
   ]
  },
  {
   "cell_type": "code",
   "execution_count": 3,
   "metadata": {},
   "outputs": [
    {
     "name": "stdout",
     "output_type": "stream",
     "text": [
      "F1: 0.4\n",
      "Fbeta(beta=0.001): 0.49999975000037494\n",
      "Fbeta Score(beta=1): 0.4\n",
      "Fbeta(beta=1000): 0.33333344444437035\n"
     ]
    }
   ],
   "source": [
    "from sklearn.metrics import f1_score, fbeta_score\n",
    "print('F1:', f1_score(y_true, y_pred))\n",
    "\n",
    "# beta值越小,越趋向找准率\n",
    "print('Fbeta(beta=0.001):', fbeta_score(y_true, y_pred, beta=0.001))\n",
    "print('Fbeta Score(beta=1):', fbeta_score(y_true, y_pred, beta=1))\n",
    "\n",
    "# beta值越大,越趋向查全率(召回率)\n",
    "print('Fbeta(beta=1000):', fbeta_score(y_true, y_pred, beta=1000))"
   ]
  },
  {
   "cell_type": "code",
   "execution_count": 4,
   "metadata": {},
   "outputs": [
    {
     "name": "stdout",
     "output_type": "stream",
     "text": [
      "             precision    recall  f1-score   support\n",
      "\n",
      "    class_0       0.33      0.50      0.40         2\n",
      "    class_1       0.50      0.33      0.40         3\n",
      "\n",
      "avg / total       0.43      0.40      0.40         5\n",
      "\n"
     ]
    }
   ],
   "source": [
    "# 文本指标汇总\n",
    "from sklearn.metrics import classification_report\n",
    "print(classification_report(y_true, y_pred, target_names=[\"class_0\", \"class_1\"]))"
   ]
  },
  {
   "cell_type": "code",
   "execution_count": 5,
   "metadata": {},
   "outputs": [
    {
     "name": "stdout",
     "output_type": "stream",
     "text": [
      "[[1 1]\n",
      " [2 1]]\n"
     ]
    }
   ],
   "source": [
    "# 混淆矩阵\n",
    "from sklearn.metrics import confusion_matrix\n",
    "print(confusion_matrix(y_true, y_pred, labels=[0, 1]))"
   ]
  },
  {
   "cell_type": "markdown",
   "metadata": {
    "collapsed": true
   },
   "source": [
    "### 1.2 多分类"
   ]
  },
  {
   "cell_type": "code",
   "execution_count": 6,
   "metadata": {},
   "outputs": [
    {
     "name": "stdout",
     "output_type": "stream",
     "text": [
      "准确率: 0.42857142857142855\n",
      "正确的数量: 3\n"
     ]
    }
   ],
   "source": [
    "y_true = [1, 0, 1, 0, 1, 2, 2]\n",
    "y_pred = [0, 0, 1, 1, 0, 2, 0]\n",
    "\n",
    "from sklearn.metrics import accuracy_score\n",
    "print('准确率:', accuracy_score(y_true, y_pred, normalize=True))\n",
    "print('正确的数量:', accuracy_score(y_true, y_pred, normalize=False))"
   ]
  },
  {
   "cell_type": "code",
   "execution_count": 7,
   "metadata": {},
   "outputs": [
    {
     "name": "stdout",
     "output_type": "stream",
     "text": [
      "查准率: 0.5833333333333334\n",
      "查全率: 0.4444444444444444\n"
     ]
    }
   ],
   "source": [
    "from sklearn.metrics import precision_score, recall_score\n",
    "\n",
    "print('查准率:', precision_score(y_true, y_pred, average='macro'))\n",
    "print('查全率:', recall_score(y_true, y_pred, average='macro'))"
   ]
  },
  {
   "cell_type": "code",
   "execution_count": 8,
   "metadata": {},
   "outputs": [
    {
     "name": "stdout",
     "output_type": "stream",
     "text": [
      "F1: 0.4666666666666666\n",
      "Fbeta(0.001): 0.583332958334104\n",
      "Fbeta(1): 0.4666666666666666\n",
      "Fbeta(1000): 0.44444439814841513\n"
     ]
    }
   ],
   "source": [
    "from sklearn.metrics import f1_score, fbeta_score\n",
    "print('F1:', f1_score(y_true, y_pred, average='macro'))\n",
    "\n",
    "# beta值越小,越趋向找准率\n",
    "print('Fbeta(0.001):', fbeta_score(y_true, y_pred, beta=0.001, average='macro'))\n",
    "print('Fbeta(1):', fbeta_score(y_true, y_pred, beta=1, average='macro'))\n",
    "\n",
    "# beta值越大,越趋向查全率(召回率)\n",
    "print('Fbeta(1000):', fbeta_score(y_true, y_pred, beta=1000, average='macro'))"
   ]
  },
  {
   "cell_type": "code",
   "execution_count": 9,
   "metadata": {},
   "outputs": [
    {
     "name": "stdout",
     "output_type": "stream",
     "text": [
      "             precision    recall  f1-score   support\n",
      "\n",
      "    class_0       0.25      0.50      0.33         2\n",
      "    class_1       0.50      0.33      0.40         3\n",
      "    class_2       1.00      0.50      0.67         2\n",
      "\n",
      "avg / total       0.57      0.43      0.46         7\n",
      "\n"
     ]
    }
   ],
   "source": [
    "# 文本指标汇总\n",
    "from sklearn.metrics import classification_report\n",
    "print(classification_report(y_true, y_pred, target_names=[\"class_0\", \n",
    "                                                          \"class_1\", \n",
    "                                                          \"class_2\"]))"
   ]
  },
  {
   "cell_type": "code",
   "execution_count": 10,
   "metadata": {},
   "outputs": [
    {
     "name": "stdout",
     "output_type": "stream",
     "text": [
      "[[1 1 0]\n",
      " [2 1 0]\n",
      " [1 0 1]]\n"
     ]
    }
   ],
   "source": [
    "# 混淆矩阵\n",
    "from sklearn.metrics import confusion_matrix\n",
    "print(confusion_matrix(y_true, y_pred, labels=[0, 1, 2]))"
   ]
  },
  {
   "cell_type": "code",
   "execution_count": null,
   "metadata": {
    "collapsed": true
   },
   "outputs": [],
   "source": []
  }
 ],
 "metadata": {
  "kernelspec": {
   "display_name": "Python 3",
   "language": "python",
   "name": "python3"
  },
  "language_info": {
   "codemirror_mode": {
    "name": "ipython",
    "version": 3
   },
   "file_extension": ".py",
   "mimetype": "text/x-python",
   "name": "python",
   "nbconvert_exporter": "python",
   "pygments_lexer": "ipython3",
   "version": "3.6.1"
  }
 },
 "nbformat": 4,
 "nbformat_minor": 2
}
