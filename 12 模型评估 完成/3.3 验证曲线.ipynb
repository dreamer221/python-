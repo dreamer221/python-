{
 "cells": [
  {
   "cell_type": "markdown",
   "metadata": {},
   "source": [
    "### 观察某一参数不同取值对结果的影响"
   ]
  },
  {
   "cell_type": "code",
   "execution_count": 1,
   "metadata": {},
   "outputs": [
    {
     "name": "stdout",
     "output_type": "stream",
     "text": [
      "train_scores: (50, 10)\n",
      "train_scores_mean: (50,)\n"
     ]
    }
   ],
   "source": [
    "import matplotlib.pyplot as plt\n",
    "import numpy as np\n",
    "from sklearn.datasets import load_digits\n",
    "from sklearn.svm import LinearSVC\n",
    "from sklearn.model_selection import validation_curve\n",
    "\n",
    "# 验证对于LinearSVC分类器，C参数对于预测准确率的影响\n",
    "digits = load_digits()\n",
    "X, y= digits.data,digits.target\n",
    "param_range = np.logspace(-2, 2)\n",
    "train_scores, test_scores = \\\n",
    "    validation_curve(LinearSVC(), X, y, param_name=\"C\",\n",
    "                     param_range=param_range, cv=10, \n",
    "                     scoring=\"accuracy\")\n",
    "print(\"train_scores:\", train_scores.shape)\n",
    "train_scores_mean = np.mean(train_scores, axis=1)\n",
    "print(\"train_scores_mean:\", train_scores_mean.shape)"
   ]
  },
  {
   "cell_type": "code",
   "execution_count": 2,
   "metadata": {},
   "outputs": [
    {
     "name": "stderr",
     "output_type": "stream",
     "text": [
      "E:\\software\\anaconda3\\lib\\site-packages\\matplotlib\\mathtext.py:866: MathTextWarning: Font 'default' does not have a glyph for '-' [U+2212]\n",
      "  MathTextWarning)\n",
      "E:\\software\\anaconda3\\lib\\site-packages\\matplotlib\\mathtext.py:867: MathTextWarning: Substituting with a dummy symbol.\n",
      "  warn(\"Substituting with a dummy symbol.\", MathTextWarning)\n"
     ]
    },
    {
     "data": {
      "image/png": "[encoded data removed]",
      "text/plain": [
       "<matplotlib.figure.Figure at 0x161146ce4a8>"
      ]
     },
     "metadata": {},
     "output_type": "display_data"
    }
   ],
   "source": [
    "train_scores_std = np.std(train_scores, axis=1)\n",
    "test_scores_mean = np.mean(test_scores, axis=1)\n",
    "test_scores_std = np.std(test_scores, axis=1)\n",
    "plt.figure(figsize=(5, 3))\n",
    "# 主线\n",
    "plt.semilogx(param_range, train_scores_mean, \n",
    "             label=\"Training Accuracy\", color=\"r\")\n",
    "# 阴影区域\n",
    "plt.fill_between(param_range, \n",
    "                 train_scores_mean - train_scores_std,\n",
    "                 train_scores_mean + train_scores_std, \n",
    "                 alpha=0.2, \n",
    "                 color=\"r\")\n",
    "\n",
    "plt.semilogx(param_range, test_scores_mean, \n",
    "             label=\"Testing Accuracy\", color=\"g\")\n",
    "plt.fill_between(param_range, \n",
    "                 test_scores_mean - test_scores_std,\n",
    "                 test_scores_mean + test_scores_std, \n",
    "                 alpha=0.2, \n",
    "                 color=\"g\")\n",
    "\n",
    "plt.title(\"Validation Curve with LinearSVC\")\n",
    "plt.xlabel(\"C\")\n",
    "plt.ylabel(\"Score\")\n",
    "plt.ylim(0.4, 1.1)\n",
    "plt.legend(loc='best')\n",
    "plt.show()"
   ]
  },
  {
   "cell_type": "code",
   "execution_count": null,
   "metadata": {
    "collapsed": true
   },
   "outputs": [],
   "source": []
  }
 ],
 "metadata": {
  "kernelspec": {
   "display_name": "Python 3",
   "language": "python",
   "name": "python3"
  },
  "language_info": {
   "codemirror_mode": {
    "name": "ipython",
    "version": 3
   },
   "file_extension": ".py",
   "mimetype": "text/x-python",
   "name": "python",
   "nbconvert_exporter": "python",
   "pygments_lexer": "ipython3",
   "version": "3.6.1"
  }
 },
 "nbformat": 4,
 "nbformat_minor": 2
}
