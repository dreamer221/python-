{
 "cells": [
  {
   "cell_type": "markdown",
   "metadata": {},
   "source": [
    "### 观察某一参数不同取值对结果的影响"
   ]
  },
  {
   "cell_type": "code",
   "execution_count": 1,
   "metadata": {
    "collapsed": true
   },
   "outputs": [],
   "source": [
    "import matplotlib.pyplot as plt\n",
    "import numpy as np\n",
    "from sklearn.datasets import load_digits\n",
    "from sklearn.svm import LinearSVC\n",
    "from sklearn.model_selection import validation_curve"
   ]
  },
  {
   "cell_type": "code",
   "execution_count": 2,
   "metadata": {},
   "outputs": [
    {
     "name": "stdout",
     "output_type": "stream",
     "text": [
      "train_scores: (50, 10)\n",
      "train_scores_mean: (50,)\n"
     ]
    }
   ],
   "source": [
    "# 验证对于LinearSVC分类器，C参数对于预测准确率的影响\n",
    "digits = load_digits()\n",
    "X, y= digits.data,digits.target\n",
    "param_range = np.logspace(-2, 2)\n",
    "train_scores, test_scores = validation_curve(LinearSVC(), X, y, \n",
    "                                             param_name=\"C\",\n",
    "                                             param_range=param_range,\n",
    "                                             cv=10, \n",
    "                                             scoring=\"accuracy\")\n",
    "###### 对每个 C ，获取 10 折交叉上的预测得分上的均值和方差 #####\n",
    "print(\"train_scores:\", train_scores.shape)\n",
    "train_scores_mean = np.mean(train_scores, axis=1)\n",
    "print(\"train_scores_mean:\", train_scores_mean.shape)\n",
    "train_scores_std = np.std(train_scores, axis=1)\n",
    "test_scores_mean = np.mean(test_scores, axis=1)\n",
    "test_scores_std = np.std(test_scores, axis=1)"
   ]
  },
  {
   "cell_type": "code",
   "execution_count": 5,
   "metadata": {},
   "outputs": [
    {
     "data": {
      "image/png": "[encoded data removed]",
      "text/plain": [
       "<matplotlib.figure.Figure at 0x12486e7d630>"
      ]
     },
     "metadata": {},
     "output_type": "display_data"
    }
   ],
   "source": [
    "# 绘图\n",
    "plt.figure(figsize=(5, 3))\n",
    "\n",
    "# 主线\n",
    "plt.semilogx(param_range, train_scores_mean, label=\"Training Accuracy\", color=\"r\")\n",
    "# 阴影区域\n",
    "plt.fill_between(param_range, train_scores_mean - train_scores_std,\n",
    "                 train_scores_mean + train_scores_std, \n",
    "                 alpha=0.2, \n",
    "                 color=\"r\")\n",
    "\n",
    "plt.semilogx(param_range, test_scores_mean, label=\"Testing Accuracy\", color=\"g\")\n",
    "plt.fill_between(param_range, \n",
    "                 test_scores_mean - test_scores_std,\n",
    "                 test_scores_mean + test_scores_std, \n",
    "                 alpha=0.2, \n",
    "                 color=\"g\")\n",
    "\n",
    "plt.title(\"Validation Curve with LinearSVC\")\n",
    "plt.xlabel(\"C\")\n",
    "plt.ylabel(\"Score\")\n",
    "plt.ylim(0.4, 1.1)\n",
    "plt.legend(loc='best')\n",
    "plt.show()"
   ]
  },
  {
   "cell_type": "code",
   "execution_count": null,
   "metadata": {
    "collapsed": true
   },
   "outputs": [],
   "source": []
  }
 ],
 "metadata": {
  "kernelspec": {
   "display_name": "Python 3",
   "language": "python",
   "name": "python3"
  },
  "language_info": {
   "codemirror_mode": {
    "name": "ipython",
    "version": 3
   },
   "file_extension": ".py",
   "mimetype": "text/x-python",
   "name": "python",
   "nbconvert_exporter": "python",
   "pygments_lexer": "ipython3",
   "version": "3.6.1"
  }
 },
 "nbformat": 4,
 "nbformat_minor": 2
}
