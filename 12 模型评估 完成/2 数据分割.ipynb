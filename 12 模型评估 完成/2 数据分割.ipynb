{
 "cells": [
  {
   "cell_type": "code",
   "execution_count": 1,
   "metadata": {
    "collapsed": true
   },
   "outputs": [],
   "source": [
    "\n",
    "import numpy as np\n",
    "\n",
    "X = np.array([[1, 2],\n",
    "              [11, 12],\n",
    "              [21, 22],\n",
    "              [31, 32],\n",
    "              [41, 42],\n",
    "              [51, 52],\n",
    "              [61, 62],\n",
    "              [71, 72]])\n",
    "y = np.array([0, 0, 1, 1, 1, 1, 1, 1])"
   ]
  },
  {
   "cell_type": "code",
   "execution_count": 2,
   "metadata": {},
   "outputs": [
    {
     "name": "stdout",
     "output_type": "stream",
     "text": [
      "X_train= [[71 72]\n",
      " [31 32]\n",
      " [ 1  2]\n",
      " [51 52]\n",
      " [41 42]]\n",
      "X_test= [[61 62]\n",
      " [21 22]\n",
      " [11 12]]\n",
      "y_train= [1 1 0 1 1]\n",
      "y_test= [1 1 0]\n",
      "==================================================\n",
      "Stratify:X_train= [[61 62]\n",
      " [31 32]\n",
      " [51 52]\n",
      " [11 12]\n",
      " [41 42]]\n",
      "Stratify:X_test= [[21 22]\n",
      " [71 72]\n",
      " [ 1  2]]\n",
      "Stratify:y_train= [1 1 1 0 1]\n",
      "Stratify:y_test= [1 1 0]\n"
     ]
    }
   ],
   "source": [
    "def test_train_test_split():\n",
    "    from sklearn.model_selection import train_test_split\n",
    "    \n",
    "    # 切分，测试集大小为原始数据集大小的 30%\n",
    "    X_train, X_test, y_train, y_test = train_test_split(X, y, \n",
    "                                                        test_size=0.3, \n",
    "                                                        random_state=0)  \n",
    "    print(\"X_train=\", X_train)\n",
    "    print(\"X_test=\", X_test)\n",
    "    print(\"y_train=\", y_train)\n",
    "    print(\"y_test=\", y_test)\n",
    "    print(\"==================================================\")\n",
    "    \n",
    "    # 分层采样切分，测试集大小为原始数据集大小的 30%\n",
    "    X_train, X_test, y_train, y_test = train_test_split(X, y, \n",
    "                                                        test_size=0.3,\n",
    "                                                        random_state=0, \n",
    "                                                        stratify=y)  \n",
    "    print(\"Stratify:X_train=\", X_train)\n",
    "    print(\"Stratify:X_test=\", X_test)\n",
    "    print(\"Stratify:y_train=\", y_train)\n",
    "    print(\"Stratify:y_test=\", y_test)\n",
    "    \n",
    "test_train_test_split()"
   ]
  },
  {
   "cell_type": "code",
   "execution_count": 3,
   "metadata": {},
   "outputs": [
    {
     "name": "stdout",
     "output_type": "stream",
     "text": [
      "Train Index: [3 4 5 6 7]\n",
      "Test Index: [0 1 2]\n",
      "------------------------\n",
      "\n",
      "Train Index: [0 1 2 6 7]\n",
      "Test Index: [3 4 5]\n",
      "------------------------\n",
      "\n",
      "Train Index: [0 1 2 3 4 5]\n",
      "Test Index: [6 7]\n",
      "------------------------\n",
      "\n"
     ]
    }
   ],
   "source": [
    "def test_KFold():\n",
    "    from sklearn.model_selection import KFold\n",
    "    # 切分之前不混洗数据集\n",
    "    folder = KFold(n_splits=3, random_state=0, shuffle=False)  \n",
    "    for train_index, test_index in folder.split(X, y):\n",
    "        print(\"Train Index:\", train_index)\n",
    "        print(\"Test Index:\", test_index)\n",
    "        print(\"------------------------\\n\")\n",
    "        \n",
    "test_KFold()"
   ]
  },
  {
   "cell_type": "code",
   "execution_count": 4,
   "metadata": {},
   "outputs": [
    {
     "name": "stdout",
     "output_type": "stream",
     "text": [
      "Shuffled Train Index: [0 3 4 5 7]\n",
      "Shuffled Test Index: [1 2 6]\n",
      "--------------------------\n",
      "\n",
      "Shuffled Train Index: [1 2 4 5 6]\n",
      "Shuffled Test Index: [0 3 7]\n",
      "--------------------------\n",
      "\n",
      "Shuffled Train Index: [0 1 2 3 6 7]\n",
      "Shuffled Test Index: [4 5]\n",
      "--------------------------\n",
      "\n"
     ]
    }
   ],
   "source": [
    "def test_KFold_shuffle():\n",
    "    from sklearn.model_selection import KFold\n",
    "    # 切分之前混洗数据集\n",
    "    shuffle_folder = KFold(n_splits=3, random_state=0, shuffle=True)  \n",
    "    for train_index, test_index in shuffle_folder.split(X, y):\n",
    "        print(\"Shuffled Train Index:\", train_index)\n",
    "        print(\"Shuffled Test Index:\", test_index)\n",
    "        print(\"--------------------------\\n\")\n",
    "        \n",
    "test_KFold_shuffle()"
   ]
  },
  {
   "cell_type": "code",
   "execution_count": 5,
   "metadata": {},
   "outputs": [
    {
     "name": "stdout",
     "output_type": "stream",
     "text": [
      "X train Index: [1 4 5 6 7] , y_train: [0 1 1 1 1]\n",
      "X Test Index: [0 2 3] ,  y_test: [0 1 1]\n",
      "------------------------\n",
      "\n",
      "X train Index: [0 2 3 6 7] , y_train: [0 1 1 1 1]\n",
      "X Test Index: [1 4 5] ,  y_test: [0 1 1]\n",
      "------------------------\n",
      "\n",
      "X train Index: [0 1 2 3 4 5] , y_train: [0 0 1 1 1 1]\n",
      "X Test Index: [6 7] ,  y_test: [1 1]\n",
      "------------------------\n",
      "\n"
     ]
    },
    {
     "name": "stderr",
     "output_type": "stream",
     "text": [
      "E:\\software\\anaconda3\\lib\\site-packages\\sklearn\\model_selection\\_split.py:582: Warning: The least populated class in y has only 2 members, which is too few. The minimum number of groups for any class cannot be less than n_splits=3.\n",
      "  % (min_groups, self.n_splits)), Warning)\n"
     ]
    }
   ],
   "source": [
    "def test_StratifiedKFold():\n",
    "    from sklearn.model_selection import StratifiedKFold\n",
    "    \n",
    "    stratified_folder = StratifiedKFold(n_splits=3, random_state=0, shuffle=False)\n",
    "    for train_index, test_index in stratified_folder.split(X, y):\n",
    "        print(\"X train Index:\", train_index, \", y_train:\", y[train_index])\n",
    "        print(\"X Test Index:\", test_index, \",  y_test:\", y[test_index])\n",
    "        print(\"------------------------\\n\")\n",
    "        \n",
    "test_StratifiedKFold()"
   ]
  },
  {
   "cell_type": "code",
   "execution_count": 6,
   "metadata": {},
   "outputs": [
    {
     "name": "stdout",
     "output_type": "stream",
     "text": [
      "Test Index: [0]\n",
      "X_test: [[1 2 3 4]]\n",
      "----------------\n",
      "\n",
      "Test Index: [1]\n",
      "X_test: [[11 12 13 14]]\n",
      "----------------\n",
      "\n",
      "Test Index: [2]\n",
      "X_test: [[21 22 23 24]]\n",
      "----------------\n",
      "\n",
      "Test Index: [3]\n",
      "X_test: [[31 32 33 34]]\n",
      "----------------\n",
      "\n"
     ]
    }
   ],
   "source": [
    "def test_LeaveOneOut():\n",
    "    from sklearn.model_selection import LeaveOneOut\n",
    "    X = np.array([[1, 2, 3, 4],\n",
    "                  [11, 12, 13, 14],\n",
    "                  [21, 22, 23, 24],\n",
    "                  [31, 32, 33, 34]])\n",
    "    y = np.array([1, 1, 0, 0])\n",
    "\n",
    "    loo = LeaveOneOut()\n",
    "    loo.get_n_splits(X)\n",
    "    for train_index, test_index in loo.split(X):\n",
    "#         print(\"Train Index:\", train_index)\n",
    "        print(\"Test Index:\", test_index)\n",
    "#         print(\"X_train:\", X[train_index])\n",
    "        print(\"X_test:\", X[test_index])\n",
    "        print(\"----------------\\n\")\n",
    "        \n",
    "test_LeaveOneOut()"
   ]
  },
  {
   "cell_type": "code",
   "execution_count": 7,
   "metadata": {},
   "outputs": [
    {
     "name": "stdout",
     "output_type": "stream",
     "text": [
      "Cross Val Score is: [0.92032967 0.87845304 0.92479109 0.95518207 0.88169014]\n"
     ]
    }
   ],
   "source": [
    "def test_cross_val_score():\n",
    "    from sklearn.datasets import load_digits\n",
    "    from sklearn.svm import LinearSVC\n",
    "    from sklearn.model_selection import cross_val_score\n",
    "\n",
    "    digits = load_digits()  # 加载用于分类问题的数据集\n",
    "    X = digits.data\n",
    "    y = digits.target\n",
    "    \n",
    "    # 使用 LinearSVC 作为分类器\n",
    "    result = cross_val_score(LinearSVC(), X, y, cv=5)\n",
    "    print(\"Cross Val Score is:\", result)\n",
    "\n",
    "test_cross_val_score()"
   ]
  },
  {
   "cell_type": "code",
   "execution_count": null,
   "metadata": {
    "collapsed": true
   },
   "outputs": [],
   "source": []
  }
 ],
 "metadata": {
  "kernelspec": {
   "display_name": "Python 3",
   "language": "python",
   "name": "python3"
  },
  "language_info": {
   "codemirror_mode": {
    "name": "ipython",
    "version": 3
   },
   "file_extension": ".py",
   "mimetype": "text/x-python",
   "name": "python",
   "nbconvert_exporter": "python",
   "pygments_lexer": "ipython3",
   "version": "3.6.1"
  }
 },
 "nbformat": 4,
 "nbformat_minor": 2
}
