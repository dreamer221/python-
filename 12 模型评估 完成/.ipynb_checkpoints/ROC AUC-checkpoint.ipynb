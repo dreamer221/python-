{
 "cells": [
  {
   "cell_type": "code",
   "execution_count": 1,
   "metadata": {},
   "outputs": [],
   "source": [
    "import numpy as np\n",
    "from sklearn.model_selection import train_test_split\n",
    "from sklearn.datasets import load_iris\n",
    "from sklearn.preprocessing import label_binarize\n",
    "from sklearn.multiclass import OneVsRestClassifier\n",
    "from sklearn.svm import SVC\n",
    "import matplotlib.pyplot as plt"
   ]
  },
  {
   "cell_type": "markdown",
   "metadata": {},
   "source": [
    "import numpy as np\n",
    "import matplotlib.pyplot as plt\n",
    "from itertools import cycle\n",
    "\n",
    "from sklearn import svm, datasets\n",
    "from sklearn.metrics import roc_curve, auc\n",
    "from sklearn.model_selection import train_test_split\n",
    "from sklearn.preprocessing import label_binarize\n",
    "from sklearn.multiclass import OneVsRestClassifier\n",
    "from scipy import interp"
   ]
  },
  {
   "cell_type": "code",
   "execution_count": 3,
   "metadata": {},
   "outputs": [],
   "source": [
    "### 加载数据\n",
    "iris = load_iris()\n",
    "X = iris.data\n",
    "y = iris.target\n",
    "# print(y)\n",
    "\n",
    "# 二元化标记\n",
    "y = label_binarize(y, classes=[0, 1, 2])\n",
    "# print(y[:5])\n",
    "\n",
    "n_classes = y.shape[1]\n",
    "#### 添加噪音\n",
    "np.random.seed(0)\n",
    "n_samples, n_features = X.shape\n",
    "random_state = np.random.RandomState(0)\n",
    "# X = np.c_[X, np.random.randn(n_samples, 200 * n_features)]\n",
    "\n",
    "X_train, X_test, y_train, y_test = train_test_split(X, y,\n",
    "                                                    test_size=0.5, \n",
    "                                                    random_state=0)\n",
    "### 训练模型\n",
    "clfModel = SVC(kernel='linear', probability=True, random_state=random_state)\n",
    "clf = OneVsRestClassifier(clfModel)\n",
    "clf.fit(X_train, y_train)\n",
    "y_score = clf.fit(X_train, y_train).decision_function(X_test)\n",
    "# print(y_score[:5])"
   ]
  },
  {
   "cell_type": "code",
   "execution_count": 4,
   "metadata": {},
   "outputs": [
    {
     "name": "stdout",
     "output_type": "stream",
     "text": [
      "[0 0 1 0 1 0 1 0 0 0 0 0 0 0 0 1 0 0 1 1 0 0 1 1 0 1 1 0 0 1 0 0 1 0 0 0 1\n",
      " 0 0 0 0 1 0 1 1 0 0 0 0 0 0 0 0 0 0 0 0 0 0 0 0 1 0 0 0 0 0 0 1 1 0 0 1 1\n",
      " 0]\n",
      "[-4.52609987 -4.52363081 -4.29544529 -4.20604454 -4.06399205 -4.0207076\n",
      " -4.01286452 -3.78787453 -3.74016002 -3.63492783 -3.63282155 -3.58459897\n",
      " -3.57813571 -3.43187065 -3.43179756 -3.42685942 -3.40478132 -3.38909428\n",
      " -3.27471138 -3.18981379 -3.18923262 -3.18066308 -3.02357691 -3.01486208\n",
      " -2.86540149 -2.86002748 -2.77345858 -2.6974942  -2.68086321 -2.65028866\n",
      " -2.64026621 -2.57396061 -2.56539107 -2.52835238 -2.52210662 -2.45158845\n",
      " -2.44243775 -2.41636546 -2.38375773 -2.30742967 -2.23785545 -2.21454281\n",
      " -2.16443233 -2.15411929 -2.11381288 -2.02891529 -2.01606098 -1.98461469\n",
      " -1.94176612 -1.92528041 -1.87262777 -1.71132902 -1.50834493 -1.35409061\n",
      "  1.00481639  1.10714364  1.14904826  1.1631371   1.17795239  1.20373409\n",
      "  1.25101273  1.26350425  1.29117385  1.32668652  1.39684192  1.43990798\n",
      "  1.50672255  1.53519081  1.53976616  1.60323992  1.66758542  1.74739869\n",
      "  1.79416836  1.89199335  2.02104714]\n"
     ]
    }
   ],
   "source": [
    "### 获取 ROC\n",
    "\n",
    "fpr = dict()\n",
    "tpr = dict()\n",
    "roc_auc = dict()\n",
    "\n",
    "from sklearn.metrics import auc, roc_curve\n",
    "# print(y_test[:, 0])\n",
    "# print(np.sort(y_score[:, 0]))"
   ]
  },
  {
   "cell_type": "code",
   "execution_count": 5,
   "metadata": {},
   "outputs": [
    {
     "name": "stdout",
     "output_type": "stream",
     "text": [
      "[ 2.02104714  1.00481639 -4.52609987]\n",
      "fpr: [0. 0. 1.]\n",
      "tpr: [0.04761905 1.         1.        ]\n"
     ]
    }
   ],
   "source": [
    "fpr0, tpr0, thresholds0 = roc_curve(y_test[:, 0], y_score[:, 0])\n",
    "print(thresholds0)\n",
    "print(\"fpr:\", fpr0)\n",
    "print(\"tpr:\", tpr0)"
   ]
  },
  {
   "cell_type": "code",
   "execution_count": 9,
   "metadata": {},
   "outputs": [
    {
     "name": "stdout",
     "output_type": "stream",
     "text": [
      "\n",
      " 0\n",
      "[-4.52609987 -4.52363081 -4.29544529 -4.20604454 -4.06399205 -4.0207076\n",
      " -4.01286452 -3.78787453 -3.74016002 -3.63492783 -3.63282155 -3.58459897\n",
      " -3.57813571 -3.43187065 -3.43179756 -3.42685942 -3.40478132 -3.38909428\n",
      " -3.27471138 -3.18981379 -3.18923262 -3.18066308 -3.02357691 -3.01486208\n",
      " -2.86540149 -2.86002748 -2.77345858 -2.6974942  -2.68086321 -2.65028866\n",
      " -2.64026621 -2.57396061 -2.56539107 -2.52835238 -2.52210662 -2.45158845\n",
      " -2.44243775 -2.41636546 -2.38375773 -2.30742967 -2.23785545 -2.21454281\n",
      " -2.16443233 -2.15411929 -2.11381288 -2.02891529 -2.01606098 -1.98461469\n",
      " -1.94176612 -1.92528041 -1.87262777 -1.71132902 -1.50834493 -1.35409061\n",
      "  1.00481639  1.10714364  1.14904826  1.1631371   1.17795239  1.20373409\n",
      "  1.25101273  1.26350425  1.29117385  1.32668652  1.39684192  1.43990798\n",
      "  1.50672255  1.53519081  1.53976616  1.60323992  1.66758542  1.74739869\n",
      "  1.79416836  1.89199335  2.02104714]\n",
      "[ 2.02104714  1.00481639 -4.52609987]\n",
      "fpr: [0. 0. 1.]\n",
      "tpr: [0.04761905 1.         1.        ]\n",
      "\n",
      " 1\n",
      "[-4.48288342 -3.89592195 -3.24428645 -2.98516474 -2.69787371 -2.65158598\n",
      " -2.60861846 -2.22647378 -2.10735423 -2.10413788 -2.09732676 -1.88798369\n",
      " -1.80993188 -1.77722963 -1.73298629 -1.71757188 -1.56996104 -1.56906253\n",
      " -1.56661074 -1.45527057 -1.45402775 -1.40490207 -1.38516244 -1.26334554\n",
      " -1.25926852 -1.24111892 -1.23852652 -1.00014571 -0.99264864 -0.96005024\n",
      " -0.95825031 -0.92378998 -0.81683438 -0.81341433 -0.78033367 -0.76885568\n",
      " -0.74548718 -0.63396965 -0.63258889 -0.63041055 -0.61433653 -0.59283772\n",
      " -0.57043749 -0.53054572 -0.51681963 -0.50690268 -0.48076708 -0.48066323\n",
      " -0.42888096 -0.38553503 -0.37917207 -0.3535265  -0.3117717  -0.24193812\n",
      " -0.18334473 -0.16378245 -0.16043215 -0.11614805  0.08054105  0.08123477\n",
      "  0.08949641  0.12980068  0.19997591  0.3034696   0.40769376  0.45111054\n",
      "  0.4967413   0.52114516  0.53141044  0.76771676  0.81548511  1.09555652\n",
      "  1.11394949  1.26137896  1.85915881]\n",
      "[ 1.85915881  1.26137896  1.09555652  0.81548511  0.52114516  0.4967413\n",
      "  0.45111054  0.3034696   0.08123477 -0.16378245 -0.18334473 -0.38553503\n",
      " -0.61433653 -0.63041055 -0.63258889 -0.63396965 -0.74548718 -0.78033367\n",
      " -0.81341433 -1.00014571 -1.23852652 -1.25926852 -1.26334554 -1.38516244\n",
      " -1.40490207 -1.45527057 -1.56661074 -1.56906253 -1.56996104 -1.71757188\n",
      " -1.73298629 -4.48288342]\n",
      "fpr: [0.         0.02222222 0.02222222 0.04444444 0.04444444 0.06666667\n",
      " 0.06666667 0.11111111 0.11111111 0.2        0.2        0.31111111\n",
      " 0.31111111 0.33333333 0.33333333 0.35555556 0.35555556 0.4\n",
      " 0.4        0.53333333 0.53333333 0.57777778 0.57777778 0.6\n",
      " 0.6        0.64444444 0.64444444 0.66666667 0.66666667 0.68888889\n",
      " 0.68888889 1.        ]\n",
      "tpr: [0.03333333 0.03333333 0.1        0.1        0.2        0.2\n",
      " 0.23333333 0.23333333 0.36666667 0.36666667 0.4        0.4\n",
      " 0.7        0.7        0.73333333 0.73333333 0.76666667 0.76666667\n",
      " 0.8        0.8        0.83333333 0.83333333 0.86666667 0.86666667\n",
      " 0.9        0.9        0.93333333 0.93333333 0.96666667 0.96666667\n",
      " 1.         1.        ]\n",
      "\n",
      " 2\n",
      "[-6.83375894 -6.70874036 -6.5048863  -6.50379003 -6.37623283 -6.36116848\n",
      " -6.33895549 -6.32976484 -6.32642977 -6.29685764 -6.2817933  -6.26300472\n",
      " -6.25493848 -6.18118025 -6.14614172 -6.00272372 -5.86145518 -5.81507654\n",
      " -5.5277339  -5.47148564 -5.20293158 -2.85787206 -2.70009682 -2.393737\n",
      " -2.17025483 -2.02128108 -1.99070203 -1.78312373 -1.70646586 -1.51619071\n",
      " -1.25179631 -1.24701888 -1.21189101 -1.16108102 -0.99069072 -0.88717803\n",
      " -0.78432618 -0.76615536 -0.7183625  -0.71100338 -0.60548048 -0.52952971\n",
      " -0.52690175 -0.51739315 -0.42256446 -0.32124431 -0.24998163 -0.13565725\n",
      " -0.12868728 -0.10964196 -0.04059996  0.17950406  0.18834862  0.20999377\n",
      "  0.25716886  0.44643708  0.4569526   0.52419123  0.82186705  0.9672989\n",
      "  0.99979881  1.00089508  1.05394387  1.15999519  1.22696214  1.32385095\n",
      "  1.33502366  1.49451293  1.70480853  1.78242707  1.92294542  1.96065819\n",
      "  2.20416446  2.60022947  3.29458805]\n",
      "[ 3.29458805  0.4569526   0.44643708  0.17950406 -0.04059996 -0.10964196\n",
      " -6.83375894]\n",
      "fpr: [0.         0.         0.01960784 0.01960784 0.03921569 0.03921569\n",
      " 1.        ]\n",
      "tpr: [0.04166667 0.79166667 0.79166667 0.95833333 0.95833333 1.\n",
      " 1.        ]\n"
     ]
    },
    {
     "data": {
      "image/png": "[encoded data removed]",
      "text/plain": [
       "<matplotlib.figure.Figure at 0x13e660ee668>"
      ]
     },
     "metadata": {},
     "output_type": "display_data"
    }
   ],
   "source": [
    "fig = plt.figure()\n",
    "ax = fig.add_subplot(1, 1, 1)\n",
    "for i in range(n_classes):\n",
    "    print('\\n', i)\n",
    "    print(np.sort(y_score[:, i]))\n",
    "    fpr[i], tpr[i], _ = roc_curve(y_test[:, i], y_score[:, i])\n",
    "    print(_)\n",
    "    print(\"fpr:\", fpr[i])\n",
    "    print(\"tpr:\", tpr[i])\n",
    "    roc_auc[i] = auc(fpr[i], tpr[i])\n",
    "    ax.plot(fpr[i], tpr[i], label=\"target=%s,auc=%s\" % (i, roc_auc[i]))\n",
    "#     break\n",
    "ax.plot([0, 1], [0, 1], 'k--')\n",
    "ax.set_xlabel(\"FPR\")\n",
    "ax.set_ylabel(\"TPR\")\n",
    "ax.set_title(\"ROC\")\n",
    "ax.legend(loc=\"best\")\n",
    "# ax.set_xlim(0, 1.1)\n",
    "# ax.set_ylim(0, 1.1)\n",
    "ax.grid()\n",
    "plt.show()"
   ]
  },
  {
   "cell_type": "code",
   "execution_count": null,
   "metadata": {
    "collapsed": true
   },
   "outputs": [],
   "source": []
  },
  {
   "cell_type": "code",
   "execution_count": null,
   "metadata": {
    "collapsed": true
   },
   "outputs": [],
   "source": []
  },
  {
   "cell_type": "code",
   "execution_count": null,
   "metadata": {
    "collapsed": true
   },
   "outputs": [],
   "source": []
  }
 ],
 "metadata": {
  "kernelspec": {
   "display_name": "Python 3",
   "language": "python",
   "name": "python3"
  },
  "language_info": {
   "codemirror_mode": {
    "name": "ipython",
    "version": 3
   },
   "file_extension": ".py",
   "mimetype": "text/x-python",
   "name": "python",
   "nbconvert_exporter": "python",
   "pygments_lexer": "ipython3",
   "version": "3.6.1"
  }
 },
 "nbformat": 4,
 "nbformat_minor": 2
}
