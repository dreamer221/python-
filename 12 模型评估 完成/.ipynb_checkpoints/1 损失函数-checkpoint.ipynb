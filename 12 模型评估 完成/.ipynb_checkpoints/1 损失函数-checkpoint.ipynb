{
 "cells": [
  {
   "cell_type": "code",
   "execution_count": 1,
   "metadata": {
    "collapsed": true
   },
   "outputs": [],
   "source": [
    "from sklearn.metrics import zero_one_loss, log_loss\n",
    "import numpy as np\n",
    "import pandas as pd"
   ]
  },
  {
   "cell_type": "markdown",
   "metadata": {},
   "source": [
    "# 1. 0-1损失函数"
   ]
  },
  {
   "cell_type": "code",
   "execution_count": 2,
   "metadata": {},
   "outputs": [
    {
     "name": "stdout",
     "output_type": "stream",
     "text": [
      "错误率: 0.4\n",
      "错误数量: 2\n"
     ]
    }
   ],
   "source": [
    "def test_zero_one_loss():\n",
    "    y_true = [1, 1, 0, 1, 0]\n",
    "    y_pred = [0, 1, 0, 1, 1]\n",
    "    print(\"错误率:\", zero_one_loss(y_true, y_pred, normalize=True))\n",
    "    print(\"错误数量:\", zero_one_loss(y_true, y_pred, normalize=False))\n",
    "    \n",
    "test_zero_one_loss()"
   ]
  },
  {
   "cell_type": "markdown",
   "metadata": {},
   "source": [
    "# 2. 对数损失函数"
   ]
  },
  {
   "cell_type": "markdown",
   "metadata": {},
   "source": [
    "### 2.1 简单的数据"
   ]
  },
  {
   "cell_type": "code",
   "execution_count": 3,
   "metadata": {
    "collapsed": true
   },
   "outputs": [],
   "source": [
    "y_true = [1, 1, 0, 1, 0]\n",
    "y_pred = [0, 1, 0, 1, 1]"
   ]
  },
  {
   "cell_type": "code",
   "execution_count": 4,
   "metadata": {},
   "outputs": [
    {
     "name": "stdout",
     "output_type": "stream",
     "text": [
      "对数损失均值: 13.815670477450311\n",
      "对数损失总和: 69.07835238725156\n"
     ]
    }
   ],
   "source": [
    "def test_log_loss(y_true, y_pred):\n",
    "    print(\"对数损失均值:\", log_loss(y_true, y_pred, normalize=True))\n",
    "    print(\"对数损失总和:\", log_loss(y_true, y_pred, normalize=False))\n",
    "    \n",
    "test_log_loss(y_true, y_pred)"
   ]
  },
  {
   "cell_type": "code",
   "execution_count": 5,
   "metadata": {},
   "outputs": [
    {
     "name": "stdout",
     "output_type": "stream",
     "text": [
      "loss1: [-3.45387764e+01 -9.99200722e-16 -0.00000000e+00 -9.99200722e-16\n",
      " -0.00000000e+00]\n",
      "loss2: [-0.00000000e+00 -0.00000000e+00 -9.99200722e-16 -0.00000000e+00\n",
      " -3.45395760e+01]\n",
      "对数损失总和: 69.07835238725156\n",
      "对数损失均值: 13.815670477450311\n"
     ]
    }
   ],
   "source": [
    "def logloss(y_true, y_pred, eps=1e-15):        \n",
    "    y_true = np.array(y_true)\n",
    "    y_pred = np.array(y_pred)\n",
    "    assert (len(y_true) and len(y_true) == len(y_pred))\n",
    "\n",
    "    p = np.clip(y_pred, eps, 1 - eps)\n",
    "    loss1 = y_true * np.log(p)\n",
    "    loss2 = (1 - y_true) * np.log(1 - p)\n",
    "    print(\"loss1:\", loss1)\n",
    "    print(\"loss2:\", loss2)\n",
    "    loss = - (loss1 + loss2)\n",
    "    \n",
    "    lossSum = np.sum(loss)\n",
    "    lossAve = lossSum / len(y_true)\n",
    "    print(\"对数损失总和:\", lossSum)\n",
    "    print(\"对数损失均值:\", lossAve)\n",
    "    \n",
    "logloss(y_true, y_pred, eps=1e-15)"
   ]
  },
  {
   "cell_type": "markdown",
   "metadata": {},
   "source": [
    "### 2.2 复杂的数据"
   ]
  },
  {
   "cell_type": "code",
   "execution_count": 6,
   "metadata": {},
   "outputs": [
    {
     "name": "stdout",
     "output_type": "stream",
     "text": [
      "对数损失均值: 0.5035520949318156\n",
      "对数损失总和: 2.5177604746590783\n"
     ]
    }
   ],
   "source": [
    "y_true = np.array([1, 1, 1, 0, 0])\n",
    "y_pred = np.array([[0.1, 0.9],\n",
    "                  [0.6, 0.4],\n",
    "                  [0.3, 0.7],\n",
    "                  [0.4, 0.6],\n",
    "                  [0.8, 0.2]])\n",
    "\n",
    "test_log_loss(y_true, y_pred)"
   ]
  },
  {
   "cell_type": "markdown",
   "metadata": {},
   "source": [
    "## 后记: 从成熟的案例中吸取如何求y_pred每行数据当中较大数值所在列的索引"
   ]
  },
  {
   "cell_type": "code",
   "execution_count": null,
   "metadata": {
    "collapsed": true
   },
   "outputs": [],
   "source": []
  }
 ],
 "metadata": {
  "kernelspec": {
   "display_name": "Python 3",
   "language": "python",
   "name": "python3"
  },
  "language_info": {
   "codemirror_mode": {
    "name": "ipython",
    "version": 3
   },
   "file_extension": ".py",
   "mimetype": "text/x-python",
   "name": "python",
   "nbconvert_exporter": "python",
   "pygments_lexer": "ipython3",
   "version": "3.6.1"
  }
 },
 "nbformat": 4,
 "nbformat_minor": 2
}
