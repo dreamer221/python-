{
 "cells": [
  {
   "cell_type": "code",
   "execution_count": 6,
   "metadata": {
    "collapsed": true
   },
   "outputs": [],
   "source": [
    "import numpy as np\n",
    "from sklearn.model_selection import train_test_split\n",
    "from sklearn.datasets import load_iris\n",
    "from sklearn.preprocessing import label_binarize\n",
    "from sklearn.multiclass import OneVsRestClassifier\n",
    "from sklearn.svm import SVC\n",
    "import matplotlib.pyplot as plt"
   ]
  },
  {
   "cell_type": "code",
   "execution_count": 11,
   "metadata": {},
   "outputs": [
    {
     "name": "stdout",
     "output_type": "stream",
     "text": [
      "(150, 4)\n",
      "增加噪音后的形状: (150, 804)\n"
     ]
    }
   ],
   "source": [
    "### 加载数据\n",
    "iris = load_iris()\n",
    "X = iris.data\n",
    "y = iris.target\n",
    "print(X.shape)\n",
    "\n",
    "# 二元化标记\n",
    "y = label_binarize(y, classes=[0, 1, 2])\n",
    "# print(y[:5])\n",
    "\n",
    "n_classes = y.shape[1]\n",
    "#### 添加噪音\n",
    "np.random.seed(0)\n",
    "n_samples, n_features = X.shape\n",
    "random_state = np.random.RandomState(0)\n",
    "X = np.c_[X, np.random.randn(n_samples, 200 * n_features)]\n",
    "print(\"增加噪音后的形状:\", X.shape)\n",
    "\n",
    "X_train, X_test, y_train, y_test = train_test_split(X, y,\n",
    "                                                    test_size=0.5, \n",
    "                                                    random_state=0)\n",
    "### 训练模型\n",
    "clfModel = SVC(kernel='linear', probability=True, random_state=random_state)\n",
    "clf = OneVsRestClassifier(clfModel)\n",
    "clf.fit(X_train, y_train)\n",
    "y_score = clf.fit(X_train, y_train).decision_function(X_test)\n",
    "# print(y_score[:5])"
   ]
  },
  {
   "cell_type": "code",
   "execution_count": 3,
   "metadata": {},
   "outputs": [],
   "source": [
    "### 获取 ROC\n",
    "\n",
    "fpr = dict()\n",
    "tpr = dict()\n",
    "roc_auc = dict()\n",
    "\n",
    "from sklearn.metrics import auc, roc_curve\n",
    "# print(y_test[:, 0])\n",
    "# print(np.sort(y_score[:, 0]))"
   ]
  },
  {
   "cell_type": "code",
   "execution_count": 4,
   "metadata": {},
   "outputs": [
    {
     "name": "stdout",
     "output_type": "stream",
     "text": [
      "[ 2.02104714  1.00481639 -4.52609987]\n",
      "fpr: [0. 0. 1.]\n",
      "tpr: [0.04761905 1.         1.        ]\n"
     ]
    }
   ],
   "source": [
    "fpr0, tpr0, thresholds0 = roc_curve(y_test[:, 0], y_score[:, 0])\n",
    "print(thresholds0)\n",
    "print(\"fpr:\", fpr0)\n",
    "print(\"tpr:\", tpr0)"
   ]
  },
  {
   "cell_type": "code",
   "execution_count": 12,
   "metadata": {},
   "outputs": [
    {
     "name": "stdout",
     "output_type": "stream",
     "text": [
      "\n",
      " 0\n",
      "fpr: [0.         0.         0.01851852 0.01851852 0.03703704 0.03703704\n",
      " 0.05555556 0.05555556 0.07407407 0.07407407 0.09259259 0.09259259\n",
      " 0.12962963 0.12962963 0.14814815 0.14814815 0.2037037  0.2037037\n",
      " 0.27777778 0.27777778 1.        ]\n",
      "tpr: [0.04761905 0.14285714 0.14285714 0.19047619 0.19047619 0.28571429\n",
      " 0.28571429 0.38095238 0.38095238 0.61904762 0.61904762 0.66666667\n",
      " 0.66666667 0.76190476 0.76190476 0.9047619  0.9047619  0.95238095\n",
      " 0.95238095 1.         1.        ]\n",
      "\n",
      " 1\n",
      "fpr: [0.         0.         0.02222222 0.02222222 0.11111111 0.11111111\n",
      " 0.17777778 0.17777778 0.2        0.2        0.24444444 0.24444444\n",
      " 0.26666667 0.26666667 0.37777778 0.37777778 0.42222222 0.42222222\n",
      " 0.48888889 0.48888889 0.57777778 0.57777778 0.62222222 0.62222222\n",
      " 0.64444444 0.64444444 0.66666667 0.66666667 0.73333333 0.73333333\n",
      " 0.75555556 0.75555556 0.88888889 0.88888889 1.        ]\n",
      "tpr: [0.03333333 0.13333333 0.13333333 0.16666667 0.16666667 0.2\n",
      " 0.2        0.26666667 0.26666667 0.33333333 0.33333333 0.4\n",
      " 0.4        0.43333333 0.43333333 0.5        0.5        0.56666667\n",
      " 0.56666667 0.6        0.6        0.63333333 0.63333333 0.7\n",
      " 0.7        0.73333333 0.73333333 0.9        0.9        0.93333333\n",
      " 0.93333333 0.96666667 0.96666667 1.         1.        ]\n",
      "\n",
      " 2\n",
      "fpr: [0.         0.         0.01960784 0.01960784 0.07843137 0.07843137\n",
      " 0.09803922 0.09803922 0.11764706 0.11764706 0.1372549  0.1372549\n",
      " 0.15686275 0.15686275 0.17647059 0.17647059 0.31372549 0.31372549\n",
      " 0.33333333 0.33333333 0.35294118 0.35294118 0.41176471 0.41176471\n",
      " 0.45098039 0.45098039 0.47058824 0.47058824 0.50980392 0.50980392\n",
      " 0.56862745 0.56862745 1.        ]\n",
      "tpr: [0.04166667 0.125      0.125      0.25       0.25       0.29166667\n",
      " 0.29166667 0.33333333 0.33333333 0.41666667 0.41666667 0.5\n",
      " 0.5        0.54166667 0.54166667 0.58333333 0.58333333 0.66666667\n",
      " 0.66666667 0.75       0.75       0.79166667 0.79166667 0.83333333\n",
      " 0.83333333 0.875      0.875      0.91666667 0.91666667 0.95833333\n",
      " 0.95833333 1.         1.        ]\n"
     ]
    },
    {
     "data": {
      "image/png": "[encoded data removed]",
      "text/plain": [
       "<matplotlib.figure.Figure at 0x1649b5f88d0>"
      ]
     },
     "metadata": {},
     "output_type": "display_data"
    }
   ],
   "source": [
    "fig = plt.figure()\n",
    "ax = fig.add_subplot(1, 1, 1)\n",
    "for i in range(n_classes):\n",
    "    print('\\n', i)\n",
    "#     print(np.sort(y_score[:, i]))\n",
    "    fpr[i], tpr[i], _ = roc_curve(y_test[:, i], y_score[:, i])\n",
    "#     print(_)\n",
    "    print(\"fpr:\", fpr[i])\n",
    "    print(\"tpr:\", tpr[i])\n",
    "    roc_auc[i] = auc(fpr[i], tpr[i])\n",
    "    ax.plot(fpr[i], tpr[i], label=\"target=%d, auc=%.3f\" % (i, roc_auc[i]))\n",
    "#     break\n",
    "ax.plot([0, 1], [0, 1], 'k--')\n",
    "ax.set_xlabel(\"FPR\")\n",
    "ax.set_ylabel(\"TPR\")\n",
    "ax.set_title(\"ROC\")\n",
    "ax.legend(loc=\"best\")\n",
    "# ax.set_xlim(0, 1.1)\n",
    "# ax.set_ylim(0, 1.1)\n",
    "ax.grid()\n",
    "plt.show()"
   ]
  },
  {
   "cell_type": "code",
   "execution_count": null,
   "metadata": {
    "collapsed": true
   },
   "outputs": [],
   "source": []
  },
  {
   "cell_type": "code",
   "execution_count": null,
   "metadata": {
    "collapsed": true
   },
   "outputs": [],
   "source": []
  },
  {
   "cell_type": "code",
   "execution_count": null,
   "metadata": {
    "collapsed": true
   },
   "outputs": [],
   "source": []
  }
 ],
 "metadata": {
  "kernelspec": {
   "display_name": "Python 3",
   "language": "python",
   "name": "python3"
  },
  "language_info": {
   "codemirror_mode": {
    "name": "ipython",
    "version": 3
   },
   "file_extension": ".py",
   "mimetype": "text/x-python",
   "name": "python",
   "nbconvert_exporter": "python",
   "pygments_lexer": "ipython3",
   "version": "3.6.1"
  }
 },
 "nbformat": 4,
 "nbformat_minor": 2
}
