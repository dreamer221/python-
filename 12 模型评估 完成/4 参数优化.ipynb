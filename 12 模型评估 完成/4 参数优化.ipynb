{
 "cells": [
  {
   "cell_type": "code",
   "execution_count": 1,
   "metadata": {
    "collapsed": true
   },
   "outputs": [],
   "source": [
    "from sklearn.datasets import load_digits\n",
    "from sklearn.linear_model import LogisticRegression\n",
    "from sklearn.model_selection import GridSearchCV, RandomizedSearchCV\n",
    "from sklearn.metrics import classification_report\n",
    "from sklearn.model_selection import train_test_split\n",
    "import scipy"
   ]
  },
  {
   "cell_type": "markdown",
   "metadata": {},
   "source": [
    "## 1 网格搜索\n",
    "暴力寻找, 用于离散值的选取"
   ]
  },
  {
   "cell_type": "code",
   "execution_count": 2,
   "metadata": {},
   "outputs": [
    {
     "name": "stdout",
     "output_type": "stream",
     "text": [
      "最优的参数时: {'C': 0.01, 'multi_class': 'multinomial', 'penalty': 'l2', 'solver': 'lbfgs'}\n",
      "参数网格选择过程:\n",
      "0.930 (+/-0.031) for {'C': 0.01, 'multi_class': 'ovr', 'penalty': 'l1', 'solver': 'liblinear'}\n",
      "0.965 (+/-0.022) for {'C': 0.01, 'multi_class': 'ovr', 'penalty': 'l2', 'solver': 'liblinear'}\n",
      "0.965 (+/-0.024) for {'C': 0.1, 'multi_class': 'ovr', 'penalty': 'l1', 'solver': 'liblinear'}\n",
      "0.964 (+/-0.023) for {'C': 0.1, 'multi_class': 'ovr', 'penalty': 'l2', 'solver': 'liblinear'}\n",
      "0.951 (+/-0.025) for {'C': 1, 'multi_class': 'ovr', 'penalty': 'l1', 'solver': 'liblinear'}\n",
      "0.953 (+/-0.028) for {'C': 1, 'multi_class': 'ovr', 'penalty': 'l2', 'solver': 'liblinear'}\n",
      "0.950 (+/-0.020) for {'C': 10, 'multi_class': 'ovr', 'penalty': 'l1', 'solver': 'liblinear'}\n",
      "0.951 (+/-0.023) for {'C': 10, 'multi_class': 'ovr', 'penalty': 'l2', 'solver': 'liblinear'}\n",
      "0.944 (+/-0.018) for {'C': 100, 'multi_class': 'ovr', 'penalty': 'l1', 'solver': 'liblinear'}\n",
      "0.941 (+/-0.028) for {'C': 100, 'multi_class': 'ovr', 'penalty': 'l2', 'solver': 'liblinear'}\n",
      "0.964 (+/-0.027) for {'C': 0.01, 'multi_class': 'ovr', 'penalty': 'l2', 'solver': 'lbfgs'}\n",
      "0.966 (+/-0.023) for {'C': 0.01, 'multi_class': 'multinomial', 'penalty': 'l2', 'solver': 'lbfgs'}\n",
      "0.964 (+/-0.022) for {'C': 0.1, 'multi_class': 'ovr', 'penalty': 'l2', 'solver': 'lbfgs'}\n",
      "0.964 (+/-0.023) for {'C': 0.1, 'multi_class': 'multinomial', 'penalty': 'l2', 'solver': 'lbfgs'}\n",
      "0.952 (+/-0.030) for {'C': 1, 'multi_class': 'ovr', 'penalty': 'l2', 'solver': 'lbfgs'}\n",
      "0.963 (+/-0.021) for {'C': 1, 'multi_class': 'multinomial', 'penalty': 'l2', 'solver': 'lbfgs'}\n",
      "0.950 (+/-0.029) for {'C': 10, 'multi_class': 'ovr', 'penalty': 'l2', 'solver': 'lbfgs'}\n",
      "0.959 (+/-0.026) for {'C': 10, 'multi_class': 'multinomial', 'penalty': 'l2', 'solver': 'lbfgs'}\n",
      "0.938 (+/-0.028) for {'C': 100, 'multi_class': 'ovr', 'penalty': 'l2', 'solver': 'lbfgs'}\n",
      "0.956 (+/-0.026) for {'C': 100, 'multi_class': 'multinomial', 'penalty': 'l2', 'solver': 'lbfgs'}\n",
      "\n",
      "最优的结果: 0.9733333333333334\n",
      "\n",
      "详细的分类报告:\n",
      "             precision    recall  f1-score   support\n",
      "\n",
      "          0       1.00      1.00      1.00        45\n",
      "          1       0.87      0.98      0.92        46\n",
      "          2       1.00      0.98      0.99        44\n",
      "          3       1.00      1.00      1.00        46\n",
      "          4       1.00      0.96      0.98        45\n",
      "          5       0.96      0.98      0.97        46\n",
      "          6       1.00      0.98      0.99        45\n",
      "          7       1.00      1.00      1.00        45\n",
      "          8       0.93      0.88      0.90        43\n",
      "          9       1.00      0.98      0.99        45\n",
      "\n",
      "avg / total       0.97      0.97      0.97       450\n",
      "\n"
     ]
    },
    {
     "name": "stderr",
     "output_type": "stream",
     "text": [
      "E:\\software\\anaconda3\\lib\\site-packages\\sklearn\\model_selection\\_search.py:667: DeprecationWarning: The grid_scores_ attribute was deprecated in version 0.18 in favor of the more elaborate cv_results_ attribute. The grid_scores_ attribute will not be available from 0.20\n",
      "  DeprecationWarning)\n"
     ]
    }
   ],
   "source": [
    "def test_GridSearchCV():\n",
    "    '''\n",
    "    使用 LogisticRegression 作为分类器，\n",
    "    主要优化 C、penalty、multi_class 等参数\n",
    "    '''\n",
    "    ### 加载数据\n",
    "    digits = load_digits()\n",
    "    X_train, X_test, y_train, y_test = train_test_split(digits.data, \n",
    "                                                        digits.target, \n",
    "                                                        test_size=0.25,\n",
    "                                                        random_state=0, \n",
    "                                                        stratify=digits.target)\n",
    "    #### 参数优化 ######\n",
    "    tuned_parameters = [{'penalty': ['l1','l2'],\n",
    "                        'C': [0.01, 0.1, 1, 10, 100],\n",
    "                        'solver':['liblinear'],\n",
    "                        'multi_class': ['ovr']\n",
    "                        },\n",
    "                        # 因为 lbfgs supports only l2 penalties, and\n",
    "                        # Solver liblinear does not support a multinomial backend\n",
    "                        # 所以分开\n",
    "                        {'penalty': ['l2'],\n",
    "                        'C': [0.01, 0.1, 1, 10, 100],\n",
    "                         'solver':['lbfgs'],\n",
    "                        'multi_class': ['ovr', 'multinomial']\n",
    "                        }\n",
    "                       ]\n",
    "    clf = GridSearchCV(LogisticRegression(tol=1e-6), tuned_parameters, cv=10)\n",
    "    clf.fit(X_train, y_train)\n",
    "    \n",
    "    print(\"最优的参数时:\", clf.best_params_)\n",
    "    print(\"参数网格选择过程:\")\n",
    "    for params, mean_score, scores in clf.grid_scores_:\n",
    "             print(\"%0.3f (+/-%0.03f) for %s\" % (mean_score, \n",
    "                                                   scores.std() * 2, \n",
    "                                                   params))\n",
    "\n",
    "    print(\"\\n最优的结果:\",clf.score(X_test,y_test))\n",
    "    y_true, y_pred = y_test, clf.predict(X_test)\n",
    "    print(\"\\n详细的分类报告:\")\n",
    "    print(classification_report(y_true, y_pred))\n",
    "    \n",
    "test_GridSearchCV()"
   ]
  },
  {
   "cell_type": "markdown",
   "metadata": {},
   "source": [
    "## 2 随机搜索"
   ]
  },
  {
   "cell_type": "code",
   "execution_count": 5,
   "metadata": {},
   "outputs": [
    {
     "name": "stdout",
     "output_type": "stream",
     "text": [
      "最好的参数集是: {'C': 91.94221825304501, 'multi_class': 'multinomial'}\n",
      "\n",
      "随机搜索得分:\n",
      "\t0.959(+/-0.028)for {'C': 91.94221825304501, 'multi_class': 'multinomial'}\n",
      "\t0.958(+/-0.027)for {'C': 22.04092403303305, 'multi_class': 'multinomial'}\n",
      "\t0.948(+/-0.026)for {'C': 22.640872194884558, 'multi_class': 'ovr'}\n",
      "\t0.940(+/-0.028)for {'C': 83.6915216023639, 'multi_class': 'ovr'}\n",
      "\t0.936(+/-0.031)for {'C': 146.85132991341237, 'multi_class': 'ovr'}\n",
      "\t0.959(+/-0.028)for {'C': 2.917238704497741, 'multi_class': 'multinomial'}\n",
      "\t0.937(+/-0.029)for {'C': 186.57941258547095, 'multi_class': 'ovr'}\n",
      "\t0.957(+/-0.024)for {'C': 187.84857609167884, 'multi_class': 'multinomial'}\n",
      "\t0.941(+/-0.027)for {'C': 50.021436034070945, 'multi_class': 'ovr'}\n",
      "\t0.938(+/-0.030)for {'C': 102.94859913914553, 'multi_class': 'ovr'}\n",
      "最优得分: 0.9644444444444444\n",
      "\n",
      "详细的报告如下:\n",
      "             precision    recall  f1-score   support\n",
      "\n",
      "          0       1.00      1.00      1.00        45\n",
      "          1       0.88      0.98      0.93        46\n",
      "          2       1.00      0.98      0.99        44\n",
      "          3       0.94      1.00      0.97        46\n",
      "          4       1.00      0.96      0.98        45\n",
      "          5       0.98      0.96      0.97        46\n",
      "          6       1.00      0.98      0.99        45\n",
      "          7       0.98      0.96      0.97        45\n",
      "          8       0.95      0.88      0.92        43\n",
      "          9       0.93      0.96      0.95        45\n",
      "\n",
      "avg / total       0.97      0.96      0.96       450\n",
      "\n"
     ]
    },
    {
     "name": "stderr",
     "output_type": "stream",
     "text": [
      "E:\\software\\anaconda3\\lib\\site-packages\\sklearn\\model_selection\\_search.py:667: DeprecationWarning: The grid_scores_ attribute was deprecated in version 0.18 in favor of the more elaborate cv_results_ attribute. The grid_scores_ attribute will not be available from 0.20\n",
      "  DeprecationWarning)\n"
     ]
    }
   ],
   "source": [
    "def test_RandomizedSearchCV():\n",
    "    '''\n",
    "    使用 LogisticRegression 作为分类器，\n",
    "    主要优化 C、multi_class 等参数。其中 C 的分布函数为指数分布\n",
    "    '''\n",
    "    # 加载数据\n",
    "    digits = load_digits()\n",
    "    X_train, X_test, y_train, y_test = train_test_split(digits.data, \n",
    "                                                        digits.target, \n",
    "                                                        test_size=0.25,\n",
    "                                                        random_state=0, \n",
    "                                                        stratify=digits.target)\n",
    "    # 参数优化\n",
    "    tuned_parameters = {'C': scipy.stats.expon(scale=100), # 指数分布\n",
    "                        'multi_class': ['ovr','multinomial']}\n",
    "    \n",
    "    clf = RandomizedSearchCV(LogisticRegression(penalty='l2', solver='lbfgs', \n",
    "                                                tol=1e-6),\n",
    "                             tuned_parameters,\n",
    "                             cv=10,\n",
    "                             scoring=\"accuracy\",\n",
    "                             n_iter=10)\n",
    "    clf.fit(X_train, y_train)\n",
    "    print(\"最好的参数集是:\",clf.best_params_)\n",
    "    print(\"\\n随机搜索得分:\")\n",
    "    for params, mean_score, scores in clf.grid_scores_:\n",
    "        print(\"\\t%.3f(+/-%.3f)for %s\" % (mean_score, scores.std() * 2, params))\n",
    "\n",
    "    print(\"最优得分:\",clf.score(X_test,y_test))\n",
    "    \n",
    "    y_true, y_pred = y_test, clf.predict(X_test)\n",
    "    print(\"\\n详细的报告如下:\")\n",
    "    print(classification_report(y_true, y_pred))\n",
    "\n",
    "test_RandomizedSearchCV()"
   ]
  },
  {
   "cell_type": "code",
   "execution_count": 4,
   "metadata": {},
   "outputs": [
    {
     "data": {
      "text/plain": [
       "<scipy.stats._distn_infrastructure.rv_frozen at 0x1375f74a358>"
      ]
     },
     "execution_count": 4,
     "metadata": {},
     "output_type": "execute_result"
    }
   ],
   "source": [
    "scipy.stats.expon(scale=100)"
   ]
  },
  {
   "cell_type": "code",
   "execution_count": null,
   "metadata": {
    "collapsed": true
   },
   "outputs": [],
   "source": []
  },
  {
   "cell_type": "code",
   "execution_count": null,
   "metadata": {
    "collapsed": true
   },
   "outputs": [],
   "source": []
  },
  {
   "cell_type": "code",
   "execution_count": null,
   "metadata": {
    "collapsed": true
   },
   "outputs": [],
   "source": []
  },
  {
   "cell_type": "code",
   "execution_count": null,
   "metadata": {
    "collapsed": true
   },
   "outputs": [],
   "source": []
  },
  {
   "cell_type": "code",
   "execution_count": null,
   "metadata": {
    "collapsed": true
   },
   "outputs": [],
   "source": []
  },
  {
   "cell_type": "code",
   "execution_count": null,
   "metadata": {
    "collapsed": true
   },
   "outputs": [],
   "source": []
  }
 ],
 "metadata": {
  "kernelspec": {
   "display_name": "Python 3",
   "language": "python",
   "name": "python3"
  },
  "language_info": {
   "codemirror_mode": {
    "name": "ipython",
    "version": 3
   },
   "file_extension": ".py",
   "mimetype": "text/x-python",
   "name": "python",
   "nbconvert_exporter": "python",
   "pygments_lexer": "ipython3",
   "version": "3.6.1"
  }
 },
 "nbformat": 4,
 "nbformat_minor": 2
}
