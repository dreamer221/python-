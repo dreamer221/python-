{
 "cells": [
  {
   "cell_type": "code",
   "execution_count": 1,
   "metadata": {
    "collapsed": true
   },
   "outputs": [],
   "source": [
    "import numpy as np\n",
    "from sklearn.model_selection import train_test_split\n",
    "from sklearn.datasets import load_iris\n",
    "from sklearn.preprocessing import label_binarize\n",
    "from sklearn.multiclass import OneVsRestClassifier\n",
    "from sklearn.svm import SVC\n",
    "import matplotlib.pyplot as plt"
   ]
  },
  {
   "cell_type": "code",
   "execution_count": 3,
   "metadata": {},
   "outputs": [
    {
     "name": "stdout",
     "output_type": "stream",
     "text": [
      "[-0.25004251 -0.23058968 -0.2284516  -0.22711497 -0.20238399 -0.19289268\n",
      " -0.19111926 -0.13003384 -0.11923774 -0.11088917 -0.08193282 -0.0800568\n",
      " -0.07836815 -0.06178684 -0.05774206 -0.04974597 -0.04342577 -0.03254409\n",
      " -0.02407429 -0.01108555 -0.01086869  0.01626312  0.02097654  0.02264569\n",
      "  0.06881717  0.09973063  0.11808492  0.12141618  0.12688003  0.17431275\n",
      "  0.17584119  0.18874747  0.19597017  0.24975994  0.30309598  0.37989555]\n",
      "P:\n",
      " [0.58333333 0.57142857 0.58823529 0.60606061 0.625      0.64516129\n",
      " 0.63333333 0.65517241 0.67857143 0.7037037  0.69230769 0.68\n",
      " 0.66666667 0.69565217 0.68181818 0.66666667 0.7        0.73684211\n",
      " 0.72222222 0.76470588 0.75       0.73333333 0.71428571 0.69230769\n",
      " 0.66666667 0.72727273 0.7        0.66666667 0.75       0.71428571\n",
      " 0.66666667 0.8        0.75       1.         1.         1.\n",
      " 1.        ]\n",
      "R:\n",
      " [1.         0.95238095 0.95238095 0.95238095 0.95238095 0.95238095\n",
      " 0.9047619  0.9047619  0.9047619  0.9047619  0.85714286 0.80952381\n",
      " 0.76190476 0.76190476 0.71428571 0.66666667 0.66666667 0.66666667\n",
      " 0.61904762 0.61904762 0.57142857 0.52380952 0.47619048 0.42857143\n",
      " 0.38095238 0.38095238 0.33333333 0.28571429 0.28571429 0.23809524\n",
      " 0.19047619 0.19047619 0.14285714 0.14285714 0.0952381  0.04761905\n",
      " 0.        ]\n"
     ]
    },
    {
     "data": {
      "image/png": "[encoded data removed]",
      "text/plain": [
       "<matplotlib.figure.Figure at 0x1cca8898f60>"
      ]
     },
     "metadata": {},
     "output_type": "display_data"
    }
   ],
   "source": [
    "# P-R曲线\n",
    "iris = load_iris()\n",
    "X = iris.data\n",
    "y = iris.target\n",
    "# 二元化标记\n",
    "y = label_binarize(y, classes=[0, 1, 2])\n",
    "n_classes = y.shape[1]\n",
    "#### 添加噪音\n",
    "np.random.seed(0)\n",
    "n_samples, n_features = X.shape\n",
    "X = np.c_[X, np.random.randn(n_samples, 200 * n_features)]\n",
    "\n",
    "X_train, X_test, y_train, y_test = train_test_split(X, y,\n",
    "                                                    test_size=0.5, \n",
    "                                                    random_state=0)\n",
    "### 训练模型\n",
    "clf = OneVsRestClassifier(SVC(kernel='linear', probability=True, random_state=0))\n",
    "clf.fit(X_train, y_train)\n",
    "y_score = clf.fit(X_train, y_train).decision_function(X_test)\n",
    "\n",
    "### 获取 P-R\n",
    "fig = plt.figure()\n",
    "ax = fig.add_subplot(1, 1, 1)\n",
    "precision = dict()\n",
    "recall = dict()\n",
    "from sklearn.metrics import precision_recall_curve\n",
    "for i in range(n_classes):\n",
    "    precision[i], recall[i], _ = precision_recall_curve(y_test[:, i],\n",
    "                                                        y_score[:, i])\n",
    "    print(_)\n",
    "    print(\"P:\\n\", precision[i])\n",
    "    print(\"R:\\n\",recall[i])\n",
    "    \n",
    "    ax.plot(recall[i], precision[i], label=\"target=%s\" % i)\n",
    "    break\n",
    "ax.set_xlabel(\"Recall Score\")\n",
    "ax.set_ylabel(\"Precision Score\")\n",
    "ax.set_title(\"P-R\")\n",
    "ax.legend(loc='best')\n",
    "ax.set_xlim(0, 1.1)\n",
    "ax.set_ylim(0, 1.1)\n",
    "ax.grid()\n",
    "plt.show()"
   ]
  },
  {
   "cell_type": "code",
   "execution_count": null,
   "metadata": {
    "collapsed": true
   },
   "outputs": [],
   "source": []
  }
 ],
 "metadata": {
  "kernelspec": {
   "display_name": "Python 3",
   "language": "python",
   "name": "python3"
  },
  "language_info": {
   "codemirror_mode": {
    "name": "ipython",
    "version": 3
   },
   "file_extension": ".py",
   "mimetype": "text/x-python",
   "name": "python",
   "nbconvert_exporter": "python",
   "pygments_lexer": "ipython3",
   "version": "3.6.1"
  }
 },
 "nbformat": 4,
 "nbformat_minor": 2
}
