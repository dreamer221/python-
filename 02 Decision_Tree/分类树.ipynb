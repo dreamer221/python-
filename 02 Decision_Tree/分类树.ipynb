{
 "cells": [
  {
   "cell_type": "code",
   "execution_count": 2,
   "metadata": {
    "collapsed": true
   },
   "outputs": [],
   "source": [
    "# -*- coding: utf-8 -*-\n",
    "import numpy as np\n",
    "from sklearn.tree import DecisionTreeClassifier\n",
    "from sklearn import datasets\n",
    "from sklearn.model_selection import train_test_split\n",
    "import matplotlib.pyplot as plt"
   ]
  },
  {
   "cell_type": "code",
   "execution_count": 3,
   "metadata": {},
   "outputs": [
    {
     "name": "stdout",
     "output_type": "stream",
     "text": [
      "[[5.  2.  3.5 1. ]\n",
      " [4.9 3.  1.4 0.2]\n",
      " [4.4 2.9 1.4 0.2]\n",
      " [5.  2.3 3.3 1. ]\n",
      " [4.9 2.5 4.5 1.7]]\n",
      "[1 0 0 1 2]\n"
     ]
    }
   ],
   "source": [
    "iris = datasets.load_iris()  # scikit-learn 自带的 iris 数据集\n",
    "X_train = iris.data\n",
    "y_train = iris.target\n",
    "# 分层采样拆分成训练集和测试集，\n",
    "X_train, X_test, y_train, y_test =  train_test_split(X_train, y_train, \n",
    "                                                     test_size=0.25, \n",
    "                                                     random_state=0, \n",
    "                                                     stratify=y_train)\n",
    "\n",
    "print(X_train[:5])\n",
    "print(y_train[:5])"
   ]
  },
  {
   "cell_type": "code",
   "execution_count": 17,
   "metadata": {},
   "outputs": [
    {
     "name": "stdout",
     "output_type": "stream",
     "text": [
      "Training score:1.000000\n",
      "Testing score:0.947368\n"
     ]
    }
   ],
   "source": [
    "clf = DecisionTreeClassifier()\n",
    "clf.fit(X_train, y_train)\n",
    "\n",
    "print(\"训练集 score:%f\" % (clf.score(X_train, y_train)))\n",
    "print(\"测试集 score:%f\" % (clf.score(X_test, y_test)))"
   ]
  },
  {
   "cell_type": "code",
   "execution_count": 4,
   "metadata": {},
   "outputs": [
    {
     "name": "stdout",
     "output_type": "stream",
     "text": [
      "\n",
      " gini\n",
      "训练集 score:1.000000\n",
      "测试集 score:0.973684\n",
      "\n",
      " entropy\n",
      "训练集 score:1.000000\n",
      "测试集 score:0.947368\n"
     ]
    }
   ],
   "source": [
    "def test_DecisionTreeClassifier_criterion(*data):\n",
    "    # 基尼系数和熵的差别\n",
    "    X_train, X_test, y_train, y_test = data\n",
    "    criterions = ['gini', 'entropy']\n",
    "    for criterion in criterions:\n",
    "        clf = DecisionTreeClassifier(criterion=criterion)\n",
    "        clf.fit(X_train, y_train)\n",
    "        print(\"\\n\", criterion)\n",
    "        print(\"训练集 score:%f\" % (clf.score(X_train, y_train)))\n",
    "        print(\"测试集 score:%f\" % (clf.score(X_test, y_test)))\n",
    "        \n",
    "test_DecisionTreeClassifier_criterion(X_train, X_test, y_train, y_test)"
   ]
  },
  {
   "cell_type": "code",
   "execution_count": 7,
   "metadata": {},
   "outputs": [
    {
     "name": "stdout",
     "output_type": "stream",
     "text": [
      "\n",
      "\n",
      "决策树: DecisionTreeClassifier(class_weight=None, criterion='gini', max_depth=None,\n",
      "            max_features=None, max_leaf_nodes=None,\n",
      "            min_impurity_split=1e-07, min_samples_leaf=1,\n",
      "            min_samples_split=2, min_weight_fraction_leaf=0.0,\n",
      "            presort=False, random_state=None, splitter='best')\n",
      "分割原则: best\n",
      "Training score:1.000000\n",
      "Testing score:0.947368\n",
      "\n",
      "\n",
      "决策树: DecisionTreeClassifier(class_weight=None, criterion='gini', max_depth=None,\n",
      "            max_features=None, max_leaf_nodes=None,\n",
      "            min_impurity_split=1e-07, min_samples_leaf=1,\n",
      "            min_samples_split=2, min_weight_fraction_leaf=0.0,\n",
      "            presort=False, random_state=None, splitter='random')\n",
      "分割原则: random\n",
      "Training score:1.000000\n",
      "Testing score:1.000000\n"
     ]
    }
   ],
   "source": [
    "def test_DecisionTreeClassifier_splitter(*data):\n",
    "    '''\n",
    "    测试 DecisionTreeClassifier 的预测性能随划分类型的影响\n",
    "    '''\n",
    "    X_train, X_test, y_train, y_test = data\n",
    "    splitters = ['best', 'random']\n",
    "    for splitter in splitters:\n",
    "        clf = DecisionTreeClassifier(splitter=splitter)\n",
    "        print(\"\\n\\n决策树:\", clf)\n",
    "        clf.fit(X_train, y_train)\n",
    "        print(\"分割原则:\", splitter)\n",
    "        print(\"Training score:%f\" % (clf.score(X_train, y_train)))\n",
    "        print(\"Testing score:%f\" % (clf.score(X_test, y_test)))\n",
    "\n",
    "test_DecisionTreeClassifier_splitter(X_train, X_test, y_train, y_test)"
   ]
  },
  {
   "cell_type": "code",
   "execution_count": 20,
   "metadata": {},
   "outputs": [
    {
     "data": {
      "image/png": "[encoded data removed]",
      "text/plain": [
       "<matplotlib.figure.Figure at 0x138623f3eb8>"
      ]
     },
     "metadata": {},
     "output_type": "display_data"
    }
   ],
   "source": [
    "def test_DecisionTreeClassifier_depth(*data, maxdepth):\n",
    "    '''\n",
    "    预测性能随 max_depth 参数的影响\n",
    "    '''\n",
    "    X_train, X_test, y_train, y_test = data\n",
    "    depths = np.arange(1, maxdepth)\n",
    "    training_scores = []\n",
    "    testing_scores = []\n",
    "    for depth in depths:\n",
    "        clf = DecisionTreeClassifier(max_depth=depth)\n",
    "        clf.fit(X_train, y_train)\n",
    "        training_scores.append(clf.score(X_train, y_train))\n",
    "        testing_scores.append(clf.score(X_test, y_test))\n",
    "\n",
    "    ## 绘图\n",
    "    fig = plt.figure()\n",
    "    ax = fig.add_subplot(1, 1, 1)\n",
    "    ax.plot(depths, training_scores, label=\"traing score\", marker='o')\n",
    "    ax.plot(depths, testing_scores, label=\"testing score\", marker='*')\n",
    "    ax.set_xlabel(\"maxdepth\")\n",
    "    ax.set_ylabel(\"score\")\n",
    "    ax.set_title(\"Decision Tree Classification\")\n",
    "    ax.legend(framealpha=0.5, loc='best')\n",
    "    plt.show()\n",
    "    \n",
    "test_DecisionTreeClassifier_depth(X_train, X_test, y_train, y_test, maxdepth=10)"
   ]
  },
  {
   "cell_type": "code",
   "execution_count": null,
   "metadata": {
    "collapsed": true
   },
   "outputs": [],
   "source": []
  },
  {
   "cell_type": "code",
   "execution_count": null,
   "metadata": {
    "collapsed": true
   },
   "outputs": [],
   "source": []
  },
  {
   "cell_type": "code",
   "execution_count": null,
   "metadata": {
    "collapsed": true
   },
   "outputs": [],
   "source": []
  }
 ],
 "metadata": {
  "kernelspec": {
   "display_name": "Python 3",
   "language": "python",
   "name": "python3"
  },
  "language_info": {
   "codemirror_mode": {
    "name": "ipython",
    "version": 3
   },
   "file_extension": ".py",
   "mimetype": "text/x-python",
   "name": "python",
   "nbconvert_exporter": "python",
   "pygments_lexer": "ipython3",
   "version": "3.6.1"
  }
 },
 "nbformat": 4,
 "nbformat_minor": 2
}
